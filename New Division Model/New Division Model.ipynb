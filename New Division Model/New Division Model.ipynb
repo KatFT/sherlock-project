{
 "cells": [
  {
   "cell_type": "code",
   "execution_count": 1,
   "id": "0f5fa06a",
   "metadata": {},
   "outputs": [],
   "source": [
    "from ast import literal_eval\n",
    "from collections import Counter\n",
    "from datetime import datetime\n",
    "import numpy as np\n",
    "import pandas as pd\n",
    "\n",
    "from sklearn.metrics import f1_score, classification_report\n",
    "\n",
    "from sherlock.deploy.model import SherlockModel\n",
    "from sherlock.features.helpers import generate_chars_col\n",
    "from sklearn import *\n",
    "import os\n",
    "import gdown\n",
    "import random\n",
    "from sklearn.metrics import confusion_matrix, ConfusionMatrixDisplay\n",
    "\n",
    "import seaborn as sns\n",
    "import matplotlib.pyplot as plt\n",
    "#from matplotlib import pyplot as plt\n",
    "from pyarrow.parquet import ParquetFile\n",
    "#from googletrans import Translator\n",
    "import string\n",
    "import pyarrow.lib\n",
    "import ast\n",
    "import re\n",
    "import string\n",
    "import csv\n",
    "import io\n",
    "import statistics as statistics\n",
    "import itertools\n",
    "import math as math\n",
    "%matplotlib inline\n",
    "# set seed for reproducibility\n",
    "np.random.seed(0) \n",
    "from collections import OrderedDict\n",
    "from nltk.stem.snowball import SnowballStemmer\n",
    "import gensim\n",
    "from gensim.models import Word2Vec\n",
    "from gensim.models.doc2vec import Doc2Vec, TaggedDocument\n",
    "from functional import pseq, seq\n",
    "from nltk.tokenize import word_tokenize\n",
    "from nltk.corpus import stopwords\n",
    "from typing import Union, Tuple\n",
    "import nltk\n",
    "from tqdm import tqdm\n",
    "from unidecode import unidecode\n",
    "from sklearn.model_selection import train_test_split\n",
    "from sklearn import metrics\n",
    "\n",
    "import tensorflow as tf\n",
    "\n",
    "from sklearn.preprocessing import LabelEncoder\n",
    "from tensorflow.keras.callbacks import EarlyStopping\n",
    "from tensorflow.keras.layers import (\n",
    "    Input,\n",
    "    Dense,\n",
    "    Dropout,\n",
    "    BatchNormalization,\n",
    "    concatenate,\n",
    ")\n",
    "from tensorflow.keras.models import Model, model_from_json\n",
    "\n",
    "from sherlock.deploy import helpers\n",
    "from sklearn.preprocessing import OneHotEncoder\n",
    "from sklearn.preprocessing import OrdinalEncoder\n",
    "\n"
   ]
  },
  {
   "cell_type": "code",
   "execution_count": 2,
   "id": "8fc2483d",
   "metadata": {},
   "outputs": [],
   "source": [
    "model_id = \"sherlock2.2\" #retreinar sherlock"
   ]
  },
  {
   "cell_type": "markdown",
   "id": "37d39b1b",
   "metadata": {},
   "source": [
    "### import dos ficheiros"
   ]
  },
  {
   "cell_type": "code",
   "execution_count": 3,
   "id": "28e0a290",
   "metadata": {},
   "outputs": [],
   "source": [
    "\n",
    "X= pd.read_parquet('feature_vectors_final3_novo.parquet')\n",
    "y=pd.read_parquet('labels_final3_novo.parquet').values.flatten()"
   ]
  },
  {
   "cell_type": "code",
   "execution_count": 4,
   "id": "f8bf51c2",
   "metadata": {},
   "outputs": [
    {
     "data": {
      "text/plain": [
       "array(['periodo', 'ars', 'hospital', 'localizacao geografica',\n",
       "       'grupo hospitalar', 'unidades antibioticos', 'unidades totais',\n",
       "       'peso', 'periodo', 'instituicao de saude', 'mortalidade mensal',\n",
       "       'periodo', 'orgao', 'nr orgaos colhidos', 'periodo',\n",
       "       'nr total de dadores de orgaos', 'total dadores falecidos',\n",
       "       'total dadores vivos', 'milhoes de habitantes',\n",
       "       'nr dadores por milhao de habitantes', 'periodo', 'regiao',\n",
       "       'entidade ', ' localizacao geografica', 'dadores inscritos',\n",
       "       'dadores de 1a vez', 'dadores regulares', 'periodo',\n",
       "       'nr total de dadores', 'nr dadores por milhao de habitantes (pmh)',\n",
       "       'periodo', 'regiao', 'residencia',\n",
       "       'doenca de declaracao obrigatoria', 'sexo', 'grupo etario',\n",
       "       'nr casos notificados ', 'periodo', 'regiao', 'intituicao',\n",
       "       'localizacao geografica', 'nr internamentos',\n",
       "       'nr internamentos com dispositivos medicos', 'periodo',\n",
       "       'no casos sindroma gripal testados', 'virus da gripe dominante',\n",
       "       'virus da gripe', 'virus da gripe a', 'virus da gripe a(h1)',\n",
       "       'virus da gripe a(h1)pdm09', 'virus da gripe a(h3)',\n",
       "       'virus da gripe b', 'virus da gripe b (linhagem yamagata)',\n",
       "       'virus da gripe b (linhagem victoria)', 'periodo', 'semana',\n",
       "       'taxa de incidencia de gripe semanal (100.000 hab)', 'periodo',\n",
       "       'tipo de utentes', 'utentes novos', 'utentes readmitidos',\n",
       "       'nr consultas', 'utentes em tratamento ',\n",
       "       'idade media dos utentes novos',\n",
       "       'desvio padrao da idade dos utentes novos', 'periodo',\n",
       "       'localizacao geografica',\n",
       "       'anomalias congenitas do sistema nervoso central',\n",
       "       'anomalias congenitas dos olhos, ouvido, face e pescoco',\n",
       "       'anomalias congenitas do aparelho circulatorio',\n",
       "       'anomalias congenitas do aparelho respiratorio',\n",
       "       'fenda labial e fenda palatina',\n",
       "       'anomalias congenitas do aparelho digestivo',\n",
       "       'anomalias congenitas do aparelho genital',\n",
       "       'anomalias congenitas do aparelho urinario',\n",
       "       'anomalias e deformacoes do sistema musculo-esqueletico',\n",
       "       'outras anomalias congenitas', 'anomalias cromossomicas',\n",
       "       'periodo', 'regiao ', 'entidade ', 'localizacao geografica',\n",
       "       'grupo sanguineo', 'reservas', 'periodo', 'regiao', 'aces',\n",
       "       'localizacao geografica',\n",
       "       'recem-nascidos c/ 1+ consulta med. vigil. < 28 dias de vida',\n",
       "       'recem-nascidos c/ cons. med. vigil. ate 28 dias vida',\n",
       "       'recem-nascidos c/ 1+ domicilio enf. < 15 dias de vida',\n",
       "       'recem-nascidos c/ domicilio enf. ate 15 dias de vida   ',\n",
       "       'periodo ', 'localizacao geografica',\n",
       "       'taxa de cobertura da vacina antigripal sazonal (%)', 'periodo',\n",
       "       'sexo masculino', 'sexo feminino', 'total', 'periodo ', 'orgao',\n",
       "       'no de doentes em le', 'no orgaos transplantados', 'periodo',\n",
       "       'regiao', 'entidade', 'localizacao geografica',\n",
       "       'criancas com pnv totalmente cumprido na data do 2o aniversario',\n",
       "       'proporcao criancas 2 anos, c/ pnv cumprido ate 2 anos',\n",
       "       'criancas com pnv totalmente cumprido na data do 7o aniversario',\n",
       "       'proporcao criancas 7 anos, c/ pnv cumprido ate 7 anos',\n",
       "       'jovens com pnv totalmente cumprido na data do 14o aniversario',\n",
       "       'proporcao jovens 14 anos, c/ pnv cumprido ate 14 anos',\n",
       "       'utentes inscritos com a vacina da gripe prescrita ou efetuada nos ultimos 12 meses',\n",
       "       'proporcao idosos ou doenca cronica, c/ vacina da gripe',\n",
       "       'periodo', 'ars', 'hospital', 'localizacao geografica',\n",
       "       'grupo hospitalar', 'ddd consumidas de carbapenemes',\n",
       "       'ddd consumidas dos restantes ant.', 'peso', 'periodo', 'ars',\n",
       "       'hospital', 'localizacao geografica', 'grupo hospitalar',\n",
       "       'ddd consumidas de cefalosporinas',\n",
       "       'ddd consumidas dos restantes ant.', 'peso', 'periodo', 'regiao',\n",
       "       'instituicao', 'localizacao geografica',\n",
       "       'nomenclatura portuguesa do dispositivo medico (npdm)',\n",
       "       'nr dispositivos medicos', 'periodo',\n",
       "       'nr processos de contraordenacao',\n",
       "       'nr indiciados toxicodependentes',\n",
       "       'nr indiciados nao toxicodependentes', 'periodo', 'indice icaro',\n",
       "       'periodo', 'nr casos gripe testados',\n",
       "       'nr virus respiratorios detetados', 'rinovirus humano',\n",
       "       'virus sincicial respiratorio', 'coronavirus humano',\n",
       "       'adenovirus humano', 'parainfluenza virus', 'metapneumovirus',\n",
       "       'infecao 2+ agentes respiratorios', 'periodo', 'cod. instituicao',\n",
       "       'cod. centro custo', 'des. centro custo', 'abrev. instituicao',\n",
       "       'des. instituicao', 'tipo instituicao', 'nivel hierarquia',\n",
       "       'cod. hier. loc.', 'uf serv. depart. hier. loc.',\n",
       "       'cod. dia. data inicio uf serv. depart.', 'tipo uf serv. separt.',\n",
       "       'des. tipo uf serv. depart.', 'cod. area atuacao princ. serv.',\n",
       "       'des. area atuacao princ. serv.', 'cod. nivel acesso',\n",
       "       'des. nivel acesso', 'cod. acesso hosp. grupo', 'aces hosp. grupo',\n",
       "       'cod. uls grupo', 'uls grupo', 'cod. ars', 'ars',\n",
       "       'cod. mes ini. mapeam. cc. hier. loc.',\n",
       "       'cod. mes ini. nome uf serv. dep.', 'cod. dia dara refer.',\n",
       "       'ordem', 'periodo', 'localizacao geografica',\n",
       "       'nr total amostras analisadas', 'nr total amostras positivas',\n",
       "       'nr total amostras positivas > valor parametrico', 'periodo',\n",
       "       'regiao', 'entidade', 'localizacao geografica',\n",
       "       'nr noticias nascimento', 'nr reg. nascer utente', 'periodo',\n",
       "       'regiao', 'instituicao', 'localizacao geografica',\n",
       "       'nr total de partos', 'nr cesarianas', 'periodo', 'regiao',\n",
       "       'entidade', 'localizacao geografica',\n",
       "       'total testamentos vitais ativos de utentes ',\n",
       "       'total testamentos vitais inativos de utentes ',\n",
       "       'total testamentos vitais de utentes ',\n",
       "       'test. vit. de utentes c/ nacionalidade portuguesa',\n",
       "       'consultas dos test. vit. pelos utentes area do cidadao',\n",
       "       'consultas dos test. vit. portal do profissional',\n",
       "       'obitos de utentes com test. vit.', 'periodo', 'amostras',\n",
       "       'periodo', 'ars', 'n_confirmados', 'obitos', 'recuperados',\n",
       "       'sintoma', 'internados', 'transmissao', 'rt', 'lab', 'suspeitos',\n",
       "       'vigilancia', 'ativos', 'periodo', 'concelhos', 'nr casos',\n",
       "       'periodo', 'ars', 'rt', 'periodo', 'doses', 'doses1', 'doses2',\n",
       "       'pessoas vacinadas completamente',\n",
       "       'pessoas vacinadas parcialmente', 'vacinas', 'pessoas reforco',\n",
       "       'pessoas gripe', 'vacinacao iniciada 05-11',\n",
       "       'vacinacao completa 05-11', 'vacinas reforco e gripe', 'periodo',\n",
       "       'ars', 'recebidas', 'distribuidas', 'doses', 'doses1', 'doses2',\n",
       "       'doses desconhecidas', 'doses1 %', 'doses2 %',\n",
       "       'pessoas vacinadas parcialmente',\n",
       "       'pessoas vacinadas completamente', 'pessoas inoculadas',\n",
       "       'pessoas vacinadas parcialmente %',\n",
       "       'pessoas vacinadas completamente %', 'pessoas inoculadas %',\n",
       "       'populacao', 'periodo', 'periodo', 'regiao', 'instituicao',\n",
       "       'localizacao geografica', 'no consultas medicas total', 'periodo',\n",
       "       'regiao', 'instituicao', 'localizacao geografica',\n",
       "       'no su t.m. vermelha', 'no su t.m. laranja', 'no su t.m. amarela',\n",
       "       'no su t.m. verde', 'no su t.m. azul', 'no su t.m. branca',\n",
       "       'no s/ t.m.', 'periodo', 'regiao', 'instituicao',\n",
       "       'localizacao geografica', 'tipo de especialidade',\n",
       "       'doentes saidos', 'dias de internamento', 'periodo', 'regiao',\n",
       "       'instituicao', 'localizacao geografica',\n",
       "       'no ep. cir. amb. c/ proc. ambulatorizaveis',\n",
       "       'no ep. cir. amb e int c/ proc. ambulatorizaveis',\n",
       "       '% gdh p/ proc. ambulatorizaveis', 'periodo', 'regiao',\n",
       "       'instituicao', 'localizacao geografica',\n",
       "       'total consultas telemedicina', 'periodo', 'regiao', 'instituicao',\n",
       "       'localizacao geografica',\n",
       "       'no primeiras ce prestadas dentro do tmrg',\n",
       "       'no primeiras ce realizadas com registo no cth',\n",
       "       '% 1as consultas realizadas em tempo adequado', 'periodo',\n",
       "       'regiao', 'entidade', 'localizacao geografica', 'grupo sanguineo',\n",
       "       'consumo', 'periodo', 'regiao', 'instituicao',\n",
       "       'localizacao geografica',\n",
       "       'no ep. utentes c/ cir. real. nas 1as 48h apos admissao',\n",
       "       'no ep. utentes c/ cirurgia realizada',\n",
       "       '% fraturas anca com cirurgia realizada nas primeiras 48 horas',\n",
       "       'periodo', 'regiao', 'instituicao', 'localizacao geografica',\n",
       "       'no doentes inscritos dentro do tmrg sigic',\n",
       "       'no doentes inscritos sigic', '% inscritos em lic dentro do tmrg',\n",
       "       'periodo', 'regiao', 'instituicao', 'localizacao geografica',\n",
       "       'no intervencoes cirurgicas programadas',\n",
       "       'no intervencoes cirurgicas convencionais',\n",
       "       'no intervencoes cirurgicas de ambulatorio',\n",
       "       'no intervencoes cirurgicas urgentes', 'periodo', 'regiao',\n",
       "       'entidade', 'no utentes inscritos na area do cidadao',\n",
       "       '% utentes inscritos na area do cidadao vs inscritos no rnu',\n",
       "       'periodo', 'regiao', 'instituicao', 'localizacao geografica',\n",
       "       'no dias de internamento', 'lotacao praticada',\n",
       "       'taxa anual de ocupacao em internamento', 'periodo', 'regiao',\n",
       "       'tipologia', 'no utentes', 'periodo', 'regiao', 'instituicao',\n",
       "       'localizacao geografica', 'mortalidade avc hemorragico 30 dias',\n",
       "       'mortalidade avc isquemico 30 dias', 'periodo',\n",
       "       'total de conferencias', 'total de participantes',\n",
       "       'media sessoes pds live', 'total de minutos de conferencia',\n",
       "       'media de participantes por minutos de sessao pds', 'periodo',\n",
       "       'regiao', 'instituicao', 'localizacao geografica',\n",
       "       'medicos s/ internos', 'medicos internos', 'enfermeiros',\n",
       "       'tecnicos superiores de saude', 'farmaceuticos',\n",
       "       'tecnicos de diagnostico e terapeutica', 'assistentes tecnicos',\n",
       "       'assistentes operacionais', 'tecnicos superiores', 'informaticos',\n",
       "       'outros', 'total geral', 'nr telefone', 'nome proprio', 'pais',\n",
       "       'naturalidade', 'estado civil', 'local de trabalho', 'nivel',\n",
       "       'codigo', 'designacao'], dtype=object)"
      ]
     },
     "execution_count": 4,
     "metadata": {},
     "output_type": "execute_result"
    }
   ],
   "source": [
    "y"
   ]
  },
  {
   "cell_type": "markdown",
   "id": "7c1e824e",
   "metadata": {},
   "source": [
    "### Generalização das labels\n",
    "\n",
    "Foi verificado que tipo de labels eram parecidas entre elas e, posteriormente, foi alterada o nome dessas labels para nomes em comum"
   ]
  },
  {
   "cell_type": "code",
   "execution_count": 5,
   "id": "e35d9fa9",
   "metadata": {},
   "outputs": [],
   "source": [
    "\n",
    "y = np.array([('virus da gripe') if \"virus da gripe\" in item else item for item in y])\n",
    "y = np.array([('anomalias congenitas') if \"anomalias congenitas\" in item else item for item in y])\n",
    "y = np.array([('anomalias congenitas') if \"fenda labial e fenda palatina\" in item else item for item in y])\n",
    "y = np.array([('anomalias congenitas') if \"anomalias\" in item else item for item in y])\n",
    "y = np.array([('recem-nascidos') if \"recem-nascidos\" in item else item for item in y])\n",
    "y = np.array([('recem-nascidos') if \"recem-nascidos\" in item else item for item in y])\n",
    "y = np.array([('total dadores') if \"total dadores\" in item else item for item in y])\n",
    "y = np.array([('total dadores') if \"nr total de dadores\" in item else item for item in y])\n",
    "y = np.array([('dadores') if \"dadores inscritos\" in item else item for item in y])\n",
    "y = np.array([('dadores') if \"dadores de 1a vez\" in item else item for item in y])\n",
    "y = np.array([('dadores') if \"dadores regulares\" in item else item for item in y])\n",
    "y = np.array([('ddd consumidas') if \"ddd consumidas\" in item else item for item in y])\n",
    "y = np.array([('proporcao criancas c/ pnv cumprido') if \"criancas com pnv\" in item else item for item in y])\n",
    "y = np.array([('proporcao criancas c/ pnv cumprido') if \"proporcao criancas\" in item else item for item in y])\n",
    "y = np.array([('proporcao jovens c/ pnv cumprido') if \"proporcao jovens\" in item else item for item in y])\n",
    "y = np.array([('utentes c/ vacina da gripe') if \"utentes inscritos com a vacina da gripe\" in item else item for item in y])\n",
    "y = np.array([('utentes c/ vacina da gripe') if \"proporcao idosos\" in item else item for item in y])\n",
    "y = np.array([('utentes c/ vacina da gripe') if \"proporcao idosos\" in item else item for item in y])\n",
    "y = np.array([('virus respiratorios') if \"nr virus respiratorios detetados\" in item else item for item in y])\n",
    "y = np.array([('virus respiratorios') if \"rinovirus humano\" in item else item for item in y])\n",
    "y = np.array([('virus respiratorios') if \"virus sincicial respiratorio\" in item else item for item in y])\n",
    "y = np.array([('virus respiratorios') if \"parainfluenza virus\" in item else item for item in y])\n",
    "y = np.array([('virus respiratorios') if \"metapneumovirus\" in item else item for item in y])\n",
    "y = np.array([('virus respiratorios') if \"infecao 2+ agentes respiratorios\" in item else item for item in y])\n",
    "y = np.array([('nr total amostras positivas') if \"nr total amostras\" in item else item for item in y])\n",
    "y = np.array([('total testamentos vitais') if \"total testamentos vitais\" in item else item for item in y])\n",
    "y = np.array([('consultas dos test. vit.') if \"consultas dos test. vit.\" in item else item for item in y])\n",
    "y = np.array([('doses %') if \"doses1 %\" in item else item for item in y])\n",
    "y = np.array([('doses %') if \"doses2 %\" in item else item for item in y])\n",
    "y = np.array([('doses') if \"doses desconhecidas\" in item else item for item in y])\n",
    "y = np.array([('doses') if \"doses1\" in item else item for item in y])\n",
    "y = np.array([('doses') if \"doses2\" in item else item for item in y])\n",
    "y = np.array([('pessoas vacinadas %') if \"pessoas vacinadas parcialmente %\" in item else item for item in y])\n",
    "y = np.array([('pessoas vacinadas %') if \"pessoas vacinadas completamente %\" in item else item for item in y])\n",
    "y = np.array([('pessoas vacinadas %') if \"pessoas inoculadas %\" in item else item for item in y])\n",
    "y = np.array([('pessoas vacinadas') if \"pessoas vacinadas parcialmente\" in item else item for item in y])\n",
    "y = np.array([('pessoas vacinadas') if \"pessoas vacinadas completamente\" in item else item for item in y])\n",
    "y = np.array([('pessoas vacinadas') if \"pessoas inoculadas\" in item else item for item in y])\n",
    "y = np.array([('no su t.m.') if \"no su t.m.\" in item else item for item in y])\n",
    "y = np.array([('no ep. cir. amb.') if \"no ep. cir. amb\" in item else item for item in y])\n",
    "y = np.array([('no ep. utentes c/ cir.') if \"no ep. utentes c/ cir\" in item else item for item in y])\n",
    "y = np.array([('no doentes inscritos sigic') if \"no doentes inscritos\" in item else item for item in y])\n",
    "y = np.array([('no intervencoes cirurgicas') if \"no intervencoes cirurgicas\" in item else item for item in y])\n",
    "y = np.array([('mortalidade avc') if \"mortalidade avc\" in item else item for item in y])\n",
    "y = np.array([('medicos') if \"medicos\" in item else item for item in y])\n",
    "y = np.array([('tecnicos') if \"tecnicos\" in item else item for item in y])\n",
    "y = np.array([('no primeiras ce') if \"no primeiras ce\" in item else item for item in y])\n",
    "y = np.array([('total dadores') if \"nr dadores por milhao de habitantes (pmh)\" in item else item for item in y])\n",
    "y = np.array([('no utentes') if \"utentes novos\" in item else item for item in y])\n",
    "y = np.array([('no utentes') if \"utentes readmitidos\" in item else item for item in y])\n",
    "y = np.array([('no utentes') if \"utentes em tratamento \" in item else item for item in y])\n",
    "y = np.array([('sexo') if \"sexo masculino\" in item else item for item in y])\n",
    "y = np.array([('sexo') if \"sexo feminino\" in item else item for item in y])\n",
    "y = np.array([('nr indiciados') if \"nr indiciados\" in item else item for item in y])\n",
    "y = np.array([('virus respiratorios') if \"coronavirus humano\" in item else item for item in y])\n",
    "y = np.array([('virus respiratorios') if \"adenovirus humano\" in item else item for item in y])\n",
    "y = np.array([('centro custo') if \"centro custo\" in item else item for item in y])\n",
    "y = np.array([('instituicao') if \"instituicao\" in item else item for item in y])\n",
    "y = np.array([('area atuacao princ. serv.') if \"atuacao princ. serv.\" in item else item for item in y])\n",
    "y = np.array([('nivel acesso') if \"nivel acesso\" in item else item for item in y])\n",
    "y = np.array([('hosp. grupo') if \"hosp. grupo\" in item else item for item in y])\n",
    "y = np.array([('uls grupo') if \"uls grupo\" in item else item for item in y])\n",
    "y = np.array([('ars') if \"ars\" in item else item for item in y])\n",
    "y = np.array([('no confirmados') if \"n_confirmados\" in item else item for item in y])\n",
    "y = np.array([('dadores') if \"nr dadores por milhao de habitantes\" in item else item for item in y])\n",
    "y = np.array([('no casos') if \"nr casos notificados \" in item else item for item in y])\n",
    "y = np.array([('no casos gripe') if \"no casos sindroma gripal testados\" in item else item for item in y])\n",
    "y = np.array([('no casos gripe') if \"taxa de incidencia de gripe semanal (100.000 hab)\" in item else item for item in y])\n",
    "y = np.array([('proporcao jovens c/ pnv cumprido') if \"jovens com pnv totalmente cumprido na data do 14o aniversario\" in item else item for item in y])\n",
    "y = np.array([('vacinacao 05-11') if \"vacinacao iniciada 05-11\" in item else item for item in y])\n",
    "y = np.array([('vacinacao 05-11') if \"vacinacao completa 05-11\" in item else item for item in y])\n",
    "y = np.array([('instituicao') if \"intituicao\" in item else item for item in y])\n",
    "y = np.array([('mortalidade') if \"mortalidade\" in item else item for item in y])\n",
    "y = np.array([('nivel hierarquico') if \"nivel\" in item else item for item in y])\n",
    "y = np.array([('no su t.m.') if \"no s/\" in item else item for item in y])\n",
    "y = np.array([('no utentes') if \"no utentes\" in item else item for item in y])\n",
    "y = np.array([('nr casos') if \"nr casos\" in item else item for item in y])\n",
    "y = np.array([('no obitos') if \"obitos\" in item else item for item in y])\n",
    "y = np.array([('regiao') if \"residencia\" in item else item for item in y])\n",
    "y = np.array([('proporcao jovens c/ pnv cumprido') if \"proporcao criancas c/\" in item else item for item in y])\n",
    "y = np.array([('vacinas') if \"vacinas\" in item else item for item in y])\n",
    "y = np.array([('vacinas') if \"vacinacao 05-11\" in item else item for item in y])\n",
    "y = np.array([('no casos') if \"no casos\" in item else item for item in y])\n",
    "y = np.array([('no casos') if \"no confirmados\" in item else item for item in y])\n",
    "y = np.array([('% utentes inscritos') if \"% inscritos\" in item else item for item in y])\n",
    "y = np.array([('% utentes inscritos') if \"% utentes inscritos na area do cidadao vs inscritos no rnu\" in item else item for item in y])\n",
    "y = np.array([('profissao') if \"assistentes operacionais\" in item else item for item in y])\n",
    "y = np.array([('profissao') if \"enfermeiros\" in item else item for item in y])\n",
    "y = np.array([('profissao') if \"farmaceuticos\" in item else item for item in y])\n",
    "y = np.array([('profissao') if \"informaticos\" in item else item for item in y])\n",
    "y = np.array([('profissao') if \"medicos\" in item else item for item in y])\n",
    "y = np.array([('profissao') if \"tecnicos\" in item else item for item in y])\n",
    "y = np.array([('uls grupo') if \"aces\" in item else item for item in y])\n",
    "y = np.array([('cod. dia. data') if \"cod. dia da\" in item else item for item in y])\n",
    "y = np.array([('cod. mes ini.') if \"cod. mes ini.\" in item else item for item in y])\n",
    "y = np.array([('designacao') if \"des. tipo\" in item else item for item in y])\n",
    "y = np.array([('no de doentes') if \"no de doentes\" in item else item for item in y])\n",
    "y = np.array([('no ep. cir.') if \"no ep. utentes\" in item else item for item in y])\n",
    "y = np.array([('nr consultas') if \"no consultas\" in item else item for item in y])\n",
    "y = np.array([('no partos') if \"nr cesarianas\" in item else item for item in y])\n",
    "y = np.array([('no partos') if \"noticias nascimento\" in item else item for item in y])\n",
    "y = np.array([('no partos') if \"nr reg. nascer utente\" in item else item for item in y])\n",
    "y = np.array([('no partos') if \"nr total de partos\" in item else item for item in y])\n",
    "y = np.array([('pessoas vacinadas') if \"pessoas gripe\" in item else item for item in y])\n",
    "y = np.array([('pessoas vacinadas') if \"pessoas reforco\" in item else item for item in y])\n",
    "y = np.array([('vacinas') if \"reservas\" in item else item for item in y])\n",
    "y = np.array([('pessoas vacinadas') if \"utentes c/ vacina da gripe\" in item else item for item in y])\n",
    "y = np.array([('pessoas vacinadas') if \"utentes c/ vacina da gripe\" in item else item for item in y])\n",
    "y = np.array([('no utentes') if \"no de doentes\" in item else item for item in y])\n",
    "y = np.array([('no orgaos') if \"no orgaos transplantados\" in item else item for item in y])\n",
    "y = np.array([('no orgaos') if \"nr orgaos colhidos\" in item else item for item in y])"
   ]
  },
  {
   "cell_type": "code",
   "execution_count": 6,
   "id": "1d41825e",
   "metadata": {},
   "outputs": [],
   "source": [
    "y = np.array([x.strip() for x in y])"
   ]
  },
  {
   "cell_type": "markdown",
   "id": "d3fbf02c",
   "metadata": {},
   "source": [
    "#### Visualizar se ainda existe labels únicas"
   ]
  },
  {
   "cell_type": "code",
   "execution_count": 7,
   "id": "0f7776c9",
   "metadata": {},
   "outputs": [
    {
     "data": {
      "text/plain": [
       "array([ 1,  1,  1,  2,  1, 11,  2,  8,  1,  2,  1,  1,  1,  2,  1,  1,  2,\n",
       "        1,  4,  4,  2,  1,  1,  1,  1,  7,  2,  7,  1,  1,  3,  2,  2,  3,\n",
       "        1, 20,  1,  1,  1, 28,  1,  1,  1,  1,  3,  1,  4,  4,  1,  2,  2,\n",
       "        2,  4,  2,  2,  4,  2,  7,  8,  1,  1,  2,  2,  2,  1,  1,  1,  3,\n",
       "        1,  2,  1,  1, 52,  3,  9,  3,  1, 12,  6,  1,  4,  1, 26,  2,  1,\n",
       "        3,  1,  1,  1,  1,  1,  1,  1,  1,  1,  1,  1,  5,  1,  1,  1,  1,\n",
       "        3,  1,  1,  3,  1,  1,  5,  1,  9,  8], dtype=int64)"
      ]
     },
     "execution_count": 7,
     "metadata": {},
     "output_type": "execute_result"
    }
   ],
   "source": [
    "unique , counts= np.unique(y, return_counts=True)\n",
    "counts"
   ]
  },
  {
   "cell_type": "code",
   "execution_count": 8,
   "id": "db7e9c6c",
   "metadata": {},
   "outputs": [
    {
     "name": "stdout",
     "output_type": "stream",
     "text": [
      "[['% 1as consultas realizadas em tempo adequado' '1']\n",
      " ['% fraturas anca com cirurgia realizada nas primeiras 48 horas' '1']\n",
      " ['% gdh p/ proc. ambulatorizaveis' '1']\n",
      " ['% utentes inscritos' '2']\n",
      " ['amostras' '1']\n",
      " ['anomalias congenitas' '11']\n",
      " ['area atuacao princ. serv.' '2']\n",
      " ['ars' '8']\n",
      " ['ativos' '1']\n",
      " ['centro custo' '2']\n",
      " ['cod. dia. data' '1']\n",
      " ['cod. dia. data inicio uf serv. depart.' '1']\n",
      " ['cod. hier. loc.' '1']\n",
      " ['cod. mes ini.' '2']\n",
      " ['codigo' '1']\n",
      " ['concelhos' '1']\n",
      " ['consultas dos test. vit.' '2']\n",
      " ['consumo' '1']\n",
      " ['dadores' '4']\n",
      " ['ddd consumidas' '4']\n",
      " ['designacao' '2']\n",
      " ['dias de internamento' '1']\n",
      " ['distribuidas' '1']\n",
      " ['doenca de declaracao obrigatoria' '1']\n",
      " ['doentes saidos' '1']\n",
      " ['doses' '7']\n",
      " ['doses %' '2']\n",
      " ['entidade' '7']\n",
      " ['estado civil' '1']\n",
      " ['grupo etario' '1']\n",
      " ['grupo hospitalar' '3']\n",
      " ['grupo sanguineo' '2']\n",
      " ['hosp. grupo' '2']\n",
      " ['hospital' '3']\n",
      " ['indice icaro' '1']\n",
      " ['instituicao' '20']\n",
      " ['internados' '1']\n",
      " ['lab' '1']\n",
      " ['local de trabalho' '1']\n",
      " ['localizacao geografica' '28']\n",
      " ['lotacao praticada' '1']\n",
      " ['media de participantes por minutos de sessao pds' '1']\n",
      " ['media sessoes pds live' '1']\n",
      " ['milhoes de habitantes' '1']\n",
      " ['mortalidade' '3']\n",
      " ['naturalidade' '1']\n",
      " ['nivel hierarquico' '4']\n",
      " ['no casos' '4']\n",
      " ['no dias de internamento' '1']\n",
      " ['no doentes inscritos sigic' '2']\n",
      " ['no ep. cir.' '2']\n",
      " ['no ep. cir. amb.' '2']\n",
      " ['no intervencoes cirurgicas' '4']\n",
      " ['no obitos' '2']\n",
      " ['no orgaos' '2']\n",
      " ['no partos' '4']\n",
      " ['no primeiras ce' '2']\n",
      " ['no su t.m.' '7']\n",
      " ['no utentes' '8']\n",
      " ['nome proprio' '1']\n",
      " ['nomenclatura portuguesa do dispositivo medico (npdm)' '1']\n",
      " ['nr casos' '2']\n",
      " ['nr consultas' '2']\n",
      " ['nr indiciados' '2']\n",
      " ['nr internamentos' '1']\n",
      " ['nr processos de contraordenacao' '1']\n",
      " ['nr telefone' '1']\n",
      " ['nr total amostras positivas' '3']\n",
      " ['ordem' '1']\n",
      " ['orgao' '2']\n",
      " ['outros' '1']\n",
      " ['pais' '1']\n",
      " ['periodo' '52']\n",
      " ['peso' '3']\n",
      " ['pessoas vacinadas' '9']\n",
      " ['pessoas vacinadas %' '3']\n",
      " ['populacao' '1']\n",
      " ['profissao' '12']\n",
      " ['proporcao jovens c/ pnv cumprido' '6']\n",
      " ['recebidas' '1']\n",
      " ['recem-nascidos' '4']\n",
      " ['recuperados' '1']\n",
      " ['regiao' '26']\n",
      " ['rt' '2']\n",
      " ['semana' '1']\n",
      " ['sexo' '3']\n",
      " ['sintoma' '1']\n",
      " ['suspeitos' '1']\n",
      " ['taxa anual de ocupacao em internamento' '1']\n",
      " ['taxa de cobertura da vacina antigripal sazonal (%)' '1']\n",
      " ['test. vit. de utentes c/ nacionalidade portuguesa' '1']\n",
      " ['tipo de especialidade' '1']\n",
      " ['tipo de utentes' '1']\n",
      " ['tipo uf serv. separt.' '1']\n",
      " ['tipologia' '1']\n",
      " ['total' '1']\n",
      " ['total consultas telemedicina' '1']\n",
      " ['total dadores' '5']\n",
      " ['total de conferencias' '1']\n",
      " ['total de minutos de conferencia' '1']\n",
      " ['total de participantes' '1']\n",
      " ['total geral' '1']\n",
      " ['total testamentos vitais' '3']\n",
      " ['transmissao' '1']\n",
      " ['uf serv. depart. hier. loc.' '1']\n",
      " ['uls grupo' '3']\n",
      " ['unidades antibioticos' '1']\n",
      " ['unidades totais' '1']\n",
      " ['vacinas' '5']\n",
      " ['vigilancia' '1']\n",
      " ['virus da gripe' '9']\n",
      " ['virus respiratorios' '8']]\n"
     ]
    }
   ],
   "source": [
    "print(np.asarray((unique, counts)).T)"
   ]
  },
  {
   "cell_type": "code",
   "execution_count": 9,
   "id": "5c1f9c76",
   "metadata": {},
   "outputs": [
    {
     "data": {
      "text/plain": [
       "array(['periodo', 'ars', 'hospital', 'localizacao geografica',\n",
       "       'grupo hospitalar', 'unidades antibioticos', 'unidades totais',\n",
       "       'peso', 'periodo', 'instituicao', 'mortalidade', 'periodo',\n",
       "       'orgao', 'no orgaos', 'periodo', 'total dadores', 'total dadores',\n",
       "       'total dadores', 'milhoes de habitantes', 'dadores', 'periodo',\n",
       "       'regiao', 'entidade', 'localizacao geografica', 'dadores',\n",
       "       'dadores', 'dadores', 'periodo', 'total dadores', 'total dadores',\n",
       "       'periodo', 'regiao', 'regiao', 'doenca de declaracao obrigatoria',\n",
       "       'sexo', 'grupo etario', 'no casos', 'periodo', 'regiao',\n",
       "       'instituicao', 'localizacao geografica', 'nr internamentos',\n",
       "       'profissao', 'periodo', 'no casos', 'virus da gripe',\n",
       "       'virus da gripe', 'virus da gripe', 'virus da gripe',\n",
       "       'virus da gripe', 'virus da gripe', 'virus da gripe',\n",
       "       'virus da gripe', 'virus da gripe', 'periodo', 'semana',\n",
       "       'no casos', 'periodo', 'tipo de utentes', 'no utentes',\n",
       "       'no utentes', 'nr consultas', 'no utentes', 'no utentes',\n",
       "       'no utentes', 'periodo', 'localizacao geografica',\n",
       "       'anomalias congenitas', 'anomalias congenitas',\n",
       "       'anomalias congenitas', 'anomalias congenitas',\n",
       "       'anomalias congenitas', 'anomalias congenitas',\n",
       "       'anomalias congenitas', 'anomalias congenitas',\n",
       "       'anomalias congenitas', 'anomalias congenitas',\n",
       "       'anomalias congenitas', 'periodo', 'regiao', 'entidade',\n",
       "       'localizacao geografica', 'grupo sanguineo', 'vacinas', 'periodo',\n",
       "       'regiao', 'uls grupo', 'localizacao geografica', 'recem-nascidos',\n",
       "       'recem-nascidos', 'recem-nascidos', 'recem-nascidos', 'periodo',\n",
       "       'localizacao geografica',\n",
       "       'taxa de cobertura da vacina antigripal sazonal (%)', 'periodo',\n",
       "       'sexo', 'sexo', 'total', 'periodo', 'orgao', 'no utentes',\n",
       "       'no orgaos', 'periodo', 'regiao', 'entidade',\n",
       "       'localizacao geografica', 'proporcao jovens c/ pnv cumprido',\n",
       "       'proporcao jovens c/ pnv cumprido',\n",
       "       'proporcao jovens c/ pnv cumprido',\n",
       "       'proporcao jovens c/ pnv cumprido',\n",
       "       'proporcao jovens c/ pnv cumprido',\n",
       "       'proporcao jovens c/ pnv cumprido', 'pessoas vacinadas',\n",
       "       'pessoas vacinadas', 'periodo', 'ars', 'hospital',\n",
       "       'localizacao geografica', 'grupo hospitalar', 'ddd consumidas',\n",
       "       'ddd consumidas', 'peso', 'periodo', 'ars', 'hospital',\n",
       "       'localizacao geografica', 'grupo hospitalar', 'ddd consumidas',\n",
       "       'ddd consumidas', 'peso', 'periodo', 'regiao', 'instituicao',\n",
       "       'localizacao geografica',\n",
       "       'nomenclatura portuguesa do dispositivo medico (npdm)',\n",
       "       'profissao', 'periodo', 'nr processos de contraordenacao',\n",
       "       'nr indiciados', 'nr indiciados', 'periodo', 'indice icaro',\n",
       "       'periodo', 'nr casos', 'virus respiratorios',\n",
       "       'virus respiratorios', 'virus respiratorios',\n",
       "       'virus respiratorios', 'virus respiratorios',\n",
       "       'virus respiratorios', 'virus respiratorios',\n",
       "       'virus respiratorios', 'periodo', 'instituicao', 'centro custo',\n",
       "       'centro custo', 'instituicao', 'instituicao', 'instituicao',\n",
       "       'nivel hierarquico', 'cod. hier. loc.',\n",
       "       'uf serv. depart. hier. loc.',\n",
       "       'cod. dia. data inicio uf serv. depart.', 'tipo uf serv. separt.',\n",
       "       'designacao', 'area atuacao princ. serv.',\n",
       "       'area atuacao princ. serv.', 'nivel hierarquico',\n",
       "       'nivel hierarquico', 'hosp. grupo', 'hosp. grupo', 'uls grupo',\n",
       "       'uls grupo', 'ars', 'ars', 'cod. mes ini.', 'cod. mes ini.',\n",
       "       'cod. dia. data', 'ordem', 'periodo', 'localizacao geografica',\n",
       "       'nr total amostras positivas', 'nr total amostras positivas',\n",
       "       'nr total amostras positivas', 'periodo', 'regiao', 'entidade',\n",
       "       'localizacao geografica', 'no partos', 'no partos', 'periodo',\n",
       "       'regiao', 'instituicao', 'localizacao geografica', 'no partos',\n",
       "       'no partos', 'periodo', 'regiao', 'entidade',\n",
       "       'localizacao geografica', 'total testamentos vitais',\n",
       "       'total testamentos vitais', 'total testamentos vitais',\n",
       "       'test. vit. de utentes c/ nacionalidade portuguesa',\n",
       "       'consultas dos test. vit.', 'consultas dos test. vit.',\n",
       "       'no obitos', 'periodo', 'amostras', 'periodo', 'ars', 'no casos',\n",
       "       'no obitos', 'recuperados', 'sintoma', 'internados', 'transmissao',\n",
       "       'rt', 'lab', 'suspeitos', 'vigilancia', 'ativos', 'periodo',\n",
       "       'concelhos', 'nr casos', 'periodo', 'ars', 'rt', 'periodo',\n",
       "       'doses', 'doses', 'doses', 'pessoas vacinadas',\n",
       "       'pessoas vacinadas', 'vacinas', 'pessoas vacinadas',\n",
       "       'pessoas vacinadas', 'vacinas', 'vacinas', 'vacinas', 'periodo',\n",
       "       'ars', 'recebidas', 'distribuidas', 'doses', 'doses', 'doses',\n",
       "       'doses', 'doses %', 'doses %', 'pessoas vacinadas',\n",
       "       'pessoas vacinadas', 'pessoas vacinadas', 'pessoas vacinadas %',\n",
       "       'pessoas vacinadas %', 'pessoas vacinadas %', 'populacao',\n",
       "       'periodo', 'periodo', 'regiao', 'instituicao',\n",
       "       'localizacao geografica', 'nr consultas', 'periodo', 'regiao',\n",
       "       'instituicao', 'localizacao geografica', 'no su t.m.',\n",
       "       'no su t.m.', 'no su t.m.', 'no su t.m.', 'no su t.m.',\n",
       "       'no su t.m.', 'no su t.m.', 'periodo', 'regiao', 'instituicao',\n",
       "       'localizacao geografica', 'tipo de especialidade',\n",
       "       'doentes saidos', 'dias de internamento', 'periodo', 'regiao',\n",
       "       'instituicao', 'localizacao geografica', 'no ep. cir. amb.',\n",
       "       'no ep. cir. amb.', '% gdh p/ proc. ambulatorizaveis', 'periodo',\n",
       "       'regiao', 'instituicao', 'localizacao geografica',\n",
       "       'total consultas telemedicina', 'periodo', 'regiao', 'instituicao',\n",
       "       'localizacao geografica', 'no primeiras ce', 'no primeiras ce',\n",
       "       '% 1as consultas realizadas em tempo adequado', 'periodo',\n",
       "       'regiao', 'entidade', 'localizacao geografica', 'grupo sanguineo',\n",
       "       'consumo', 'periodo', 'regiao', 'instituicao',\n",
       "       'localizacao geografica', 'no ep. cir.', 'no ep. cir.',\n",
       "       '% fraturas anca com cirurgia realizada nas primeiras 48 horas',\n",
       "       'periodo', 'regiao', 'instituicao', 'localizacao geografica',\n",
       "       'no doentes inscritos sigic', 'no doentes inscritos sigic',\n",
       "       '% utentes inscritos', 'periodo', 'regiao', 'instituicao',\n",
       "       'localizacao geografica', 'no intervencoes cirurgicas',\n",
       "       'no intervencoes cirurgicas', 'no intervencoes cirurgicas',\n",
       "       'no intervencoes cirurgicas', 'periodo', 'regiao', 'entidade',\n",
       "       'no utentes', '% utentes inscritos', 'periodo', 'regiao',\n",
       "       'instituicao', 'localizacao geografica', 'no dias de internamento',\n",
       "       'lotacao praticada', 'taxa anual de ocupacao em internamento',\n",
       "       'periodo', 'regiao', 'tipologia', 'no utentes', 'periodo',\n",
       "       'regiao', 'instituicao', 'localizacao geografica', 'mortalidade',\n",
       "       'mortalidade', 'periodo', 'total de conferencias',\n",
       "       'total de participantes', 'media sessoes pds live',\n",
       "       'total de minutos de conferencia',\n",
       "       'media de participantes por minutos de sessao pds', 'periodo',\n",
       "       'regiao', 'instituicao', 'localizacao geografica', 'profissao',\n",
       "       'profissao', 'profissao', 'profissao', 'profissao', 'profissao',\n",
       "       'profissao', 'profissao', 'profissao', 'profissao', 'outros',\n",
       "       'total geral', 'nr telefone', 'nome proprio', 'pais',\n",
       "       'naturalidade', 'estado civil', 'local de trabalho',\n",
       "       'nivel hierarquico', 'codigo', 'designacao'], dtype='<U61')"
      ]
     },
     "execution_count": 9,
     "metadata": {},
     "output_type": "execute_result"
    }
   ],
   "source": [
    "y"
   ]
  },
  {
   "cell_type": "markdown",
   "id": "9b3e8264",
   "metadata": {},
   "source": [
    "### Divisão Treino/Teste/Validação 96%/2%/2%\n",
    "\n",
    "Foi efetuada esta divisão devido ao nosso conjunto de dados e também devido ainda à quantidade de labels únicas existentes."
   ]
  },
  {
   "cell_type": "code",
   "execution_count": 10,
   "id": "8f79f832",
   "metadata": {},
   "outputs": [
    {
     "name": "stdout",
     "output_type": "stream",
     "text": [
      "train: 374 (0.98)\n",
      "remaining: 8 (0.02)\n"
     ]
    }
   ],
   "source": [
    "# Separa o nosso conjunto de dados train (20%/80%)\n",
    "X_train, X_test, y_train, y_test= train_test_split( X, y, train_size=0.98, random_state=0)\n",
    "print (f\"train: {len(X_train)} ({(len(X_train) / len(X)):.2f})\\n\"\n",
    "       f\"remaining: {len(X_test)} ({(len(X_test) / len(X)):.2f})\")"
   ]
  },
  {
   "cell_type": "code",
   "execution_count": 11,
   "id": "9887fcfb",
   "metadata": {},
   "outputs": [
    {
     "name": "stdout",
     "output_type": "stream",
     "text": [
      "train: 366 (0.96)\n",
      "val: 8 (0.02)\n",
      "test: 8 (0.02)\n"
     ]
    }
   ],
   "source": [
    "X_train, X_val, y_train, y_val = train_test_split( X_train, y_train, test_size=0.02,random_state=3)\n",
    "\n",
    "print(f\"train: {len(X_train)} ({len(X_train)/len(X):.2f})\\n\"\n",
    "      f\"val: {len(X_val)} ({len(X_val)/len(X):.2f})\\n\"\n",
    "      f\"test: {len(X_test)} ({len(X_test)/len(X):.2f})\")"
   ]
  },
  {
   "cell_type": "code",
   "execution_count": 12,
   "id": "75ab2f12",
   "metadata": {},
   "outputs": [],
   "source": [
    "y_train = np.array([x.lower() for x in y_train])\n",
    "y_val = np.array([x.lower() for x in y_val])\n",
    "y_test = np.array([x.lower() for x in y_test])\n",
    "y_train = np.array([x.strip() for x in y_train]) \n",
    "y_val = np.array([x.strip() for x in y_val]) \n",
    "y_test = np.array([x.strip() for x in y_test])"
   ]
  },
  {
   "cell_type": "code",
   "execution_count": 13,
   "id": "0a8bf206",
   "metadata": {},
   "outputs": [
    {
     "data": {
      "text/plain": [
       "array(['no su t.m.', 'total dadores', 'virus respiratorios',\n",
       "       '% utentes inscritos', 'profissao', 'regiao',\n",
       "       'localizacao geografica', 'ars'], dtype='<U22')"
      ]
     },
     "execution_count": 13,
     "metadata": {},
     "output_type": "execute_result"
    }
   ],
   "source": [
    "y_val"
   ]
  },
  {
   "cell_type": "markdown",
   "id": "d98edfbe",
   "metadata": {},
   "source": [
    "### Inicialização do modelo"
   ]
  },
  {
   "cell_type": "code",
   "execution_count": 14,
   "id": "e80c9144",
   "metadata": {},
   "outputs": [
    {
     "name": "stderr",
     "output_type": "stream",
     "text": [
      "WARNING: Logging before flag parsing goes to stderr.\n",
      "W0702 12:47:58.464207 10468 deprecation.py:506] From C:\\Users\\Utilizador\\AppData\\Roaming\\Python\\Python37\\site-packages\\tensorflow_core\\python\\ops\\resource_variable_ops.py:1630: calling BaseResourceVariable.__init__ (from tensorflow.python.ops.resource_variable_ops) with constraint is deprecated and will be removed in a future version.\n",
      "Instructions for updating:\n",
      "If using Keras pass *_constraint arguments to layers.\n"
     ]
    },
    {
     "name": "stdout",
     "output_type": "stream",
     "text": [
      "Started at 2022-07-02 12:47:58.428207\n",
      "Train on 366 samples, validate on 8 samples\n",
      "Epoch 1/100\n",
      "366/366 [==============================] - 1s 3ms/sample - loss: 4.8279 - categorical_accuracy: 0.0956 - val_loss: 4.5714 - val_categorical_accuracy: 0.1250\n",
      "Epoch 2/100\n",
      "366/366 [==============================] - 0s 1ms/sample - loss: 3.9594 - categorical_accuracy: 0.2842 - val_loss: 4.3979 - val_categorical_accuracy: 0.3750\n",
      "Epoch 3/100\n",
      "366/366 [==============================] - 0s 1ms/sample - loss: 3.7238 - categorical_accuracy: 0.3197 - val_loss: 4.2736 - val_categorical_accuracy: 0.2500\n",
      "Epoch 4/100\n",
      "366/366 [==============================] - 1s 1ms/sample - loss: 3.4511 - categorical_accuracy: 0.3415 - val_loss: 4.1410 - val_categorical_accuracy: 0.3750\n",
      "Epoch 5/100\n",
      "366/366 [==============================] - 1s 1ms/sample - loss: 3.2864 - categorical_accuracy: 0.3880 - val_loss: 3.9047 - val_categorical_accuracy: 0.5000\n",
      "Epoch 6/100\n",
      "366/366 [==============================] - 1s 1ms/sample - loss: 3.1947 - categorical_accuracy: 0.3689 - val_loss: 3.6172 - val_categorical_accuracy: 0.6250\n",
      "Epoch 7/100\n",
      "366/366 [==============================] - 0s 1ms/sample - loss: 3.1276 - categorical_accuracy: 0.4016 - val_loss: 3.3448 - val_categorical_accuracy: 0.6250\n",
      "Epoch 8/100\n",
      "366/366 [==============================] - 0s 1ms/sample - loss: 2.9536 - categorical_accuracy: 0.4235 - val_loss: 3.0701 - val_categorical_accuracy: 0.5000\n",
      "Epoch 9/100\n",
      "366/366 [==============================] - 0s 1ms/sample - loss: 2.8683 - categorical_accuracy: 0.4399 - val_loss: 2.8118 - val_categorical_accuracy: 0.5000\n",
      "Epoch 10/100\n",
      "366/366 [==============================] - 0s 1ms/sample - loss: 2.7749 - categorical_accuracy: 0.4508 - val_loss: 2.6539 - val_categorical_accuracy: 0.5000\n",
      "Epoch 11/100\n",
      "366/366 [==============================] - 0s 1ms/sample - loss: 2.6661 - categorical_accuracy: 0.4699 - val_loss: 2.4771 - val_categorical_accuracy: 0.5000\n",
      "Epoch 12/100\n",
      "366/366 [==============================] - 1s 1ms/sample - loss: 2.5995 - categorical_accuracy: 0.4590 - val_loss: 2.3758 - val_categorical_accuracy: 0.5000\n",
      "Epoch 13/100\n",
      "366/366 [==============================] - 1s 1ms/sample - loss: 2.5653 - categorical_accuracy: 0.4563 - val_loss: 2.3166 - val_categorical_accuracy: 0.5000\n",
      "Epoch 14/100\n",
      "366/366 [==============================] - 0s 1ms/sample - loss: 2.5056 - categorical_accuracy: 0.4836 - val_loss: 2.2272 - val_categorical_accuracy: 0.5000\n",
      "Epoch 15/100\n",
      "366/366 [==============================] - 1s 1ms/sample - loss: 2.3495 - categorical_accuracy: 0.4809 - val_loss: 2.1918 - val_categorical_accuracy: 0.5000\n",
      "Epoch 16/100\n",
      "366/366 [==============================] - 0s 1ms/sample - loss: 2.3243 - categorical_accuracy: 0.5109 - val_loss: 2.1370 - val_categorical_accuracy: 0.5000\n",
      "Epoch 17/100\n",
      "366/366 [==============================] - 0s 1ms/sample - loss: 2.2968 - categorical_accuracy: 0.5219 - val_loss: 2.1303 - val_categorical_accuracy: 0.5000\n",
      "Epoch 18/100\n",
      "366/366 [==============================] - 0s 1ms/sample - loss: 2.2291 - categorical_accuracy: 0.5164 - val_loss: 2.0513 - val_categorical_accuracy: 0.5000\n",
      "Epoch 19/100\n",
      "366/366 [==============================] - 0s 1ms/sample - loss: 2.1450 - categorical_accuracy: 0.5219 - val_loss: 2.0870 - val_categorical_accuracy: 0.5000\n",
      "Epoch 20/100\n",
      "366/366 [==============================] - 0s 1ms/sample - loss: 2.1157 - categorical_accuracy: 0.5191 - val_loss: 2.1021 - val_categorical_accuracy: 0.5000\n",
      "Epoch 21/100\n",
      "366/366 [==============================] - 1s 1ms/sample - loss: 1.9907 - categorical_accuracy: 0.5710 - val_loss: 2.1549 - val_categorical_accuracy: 0.5000\n",
      "Epoch 22/100\n",
      "366/366 [==============================] - 1s 1ms/sample - loss: 1.9621 - categorical_accuracy: 0.5574 - val_loss: 2.1588 - val_categorical_accuracy: 0.5000\n",
      "Epoch 23/100\n",
      "366/366 [==============================] - 1s 1ms/sample - loss: 1.9566 - categorical_accuracy: 0.5383 - val_loss: 2.1586 - val_categorical_accuracy: 0.5000\n",
      "Trained and saved new model.\n",
      "Finished at 2022-07-02 12:48:11.773516, took 0:00:13.345309 seconds\n"
     ]
    }
   ],
   "source": [
    "model_id = \"sherlock2.2\"\n",
    "start = datetime.now()\n",
    "print(f'Started at {start}')\n",
    "\n",
    "model = SherlockModel()\n",
    "# Model will be stored with ID `model_id`\n",
    "model.fit(X_train, y_train, X_val, y_val, model_id=model_id)\n",
    "\n",
    "print('Trained and saved new model.')\n",
    "print(f'Finished at {datetime.now()}, took {datetime.now() - start} seconds')"
   ]
  },
  {
   "cell_type": "markdown",
   "id": "23565b89",
   "metadata": {},
   "source": [
    "### Previsão das labels"
   ]
  },
  {
   "cell_type": "code",
   "execution_count": 15,
   "id": "ba2bfc72",
   "metadata": {},
   "outputs": [],
   "source": [
    "predicted_labels = model.predict(X_test,model_id)\n",
    "predicted_labels = np.array([x.lower() for x in predicted_labels])"
   ]
  },
  {
   "cell_type": "code",
   "execution_count": 16,
   "id": "ea36be31",
   "metadata": {},
   "outputs": [
    {
     "name": "stdout",
     "output_type": "stream",
     "text": [
      "prediction count 8, type = <class 'numpy.ndarray'>\n"
     ]
    },
    {
     "data": {
      "text/plain": [
       "0.5"
      ]
     },
     "execution_count": 16,
     "metadata": {},
     "output_type": "execute_result"
    }
   ],
   "source": [
    "print(f'prediction count {len(predicted_labels)}, type = {type(predicted_labels)}')\n",
    "\n",
    "size=len(y_test)\n",
    "\n",
    "# Should be fully deterministic too.\n",
    "f1_score(y_test[:size], predicted_labels[:size], average=\"weighted\") "
   ]
  },
  {
   "cell_type": "code",
   "execution_count": 17,
   "id": "3c50b007",
   "metadata": {},
   "outputs": [],
   "source": [
    "#model.store_weights(model_id=model_id) #62,5"
   ]
  },
  {
   "cell_type": "code",
   "execution_count": null,
   "id": "e6e61556",
   "metadata": {},
   "outputs": [],
   "source": [
    "# If using the original model, model_id should be replaced with \"sherlock\"\n",
    "#model_id = \"sherlock\"\n",
    "import warnings\n",
    "warnings.filterwarnings('ignore')\n",
    "classes = np.load(f\"../sherlock-project/model_files/classes_{model_id}.npy\", allow_pickle=True)\n",
    "\n",
    "report = classification_report(y_test, predicted_labels, output_dict=True)\n",
    "\n",
    "class_scores = list(filter(lambda x: isinstance(x, tuple) and isinstance(x[1], dict) and 'f1-score' in x[1] and x[0] in classes, list(report.items())))\n",
    "\n",
    "class_scores = sorted(class_scores, key=lambda item: item[1]['f1-score'], reverse=True)"
   ]
  },
  {
   "cell_type": "markdown",
   "id": "41adb964",
   "metadata": {},
   "source": [
    "# Top 5 "
   ]
  },
  {
   "cell_type": "code",
   "execution_count": 19,
   "id": "780f2e93",
   "metadata": {},
   "outputs": [
    {
     "name": "stdout",
     "output_type": "stream",
     "text": [
      "\t\tf1-score\tprecision\trecall\t\tsupport\n",
      "localizacao geografica\t1.000\t\t\t1.000\t\t\t1.000\t\t\t1\n",
      "periodo\t\t1.000\t\t\t1.000\t\t\t1.000\t\t\t2\n",
      "peso\t\t1.000\t\t\t1.000\t\t\t1.000\t\t\t1\n",
      "centro custo\t0.000\t\t\t0.000\t\t\t0.000\t\t\t0\n",
      "ddd consumidas\t0.000\t\t\t0.000\t\t\t0.000\t\t\t0\n"
     ]
    }
   ],
   "source": [
    "print(f\"\\t\\tf1-score\\tprecision\\trecall\\t\\tsupport\")\n",
    "\n",
    "for key, value in class_scores[0:5]:\n",
    "    if len(key) >= 8:\n",
    "        tabs = '\\t' * 1\n",
    "    else:\n",
    "        tabs = '\\t' * 2\n",
    "\n",
    "    print(f\"{key}{tabs}{value['f1-score']:.3f}\\t\\t\\t{value['precision']:.3f}\\t\\t\\t{value['recall']:.3f}\\t\\t\\t{value['support']}\")"
   ]
  },
  {
   "cell_type": "markdown",
   "id": "58d6ab19",
   "metadata": {},
   "source": [
    "# Bottom 5"
   ]
  },
  {
   "cell_type": "code",
   "execution_count": 20,
   "id": "57e1a002",
   "metadata": {},
   "outputs": [
    {
     "name": "stdout",
     "output_type": "stream",
     "text": [
      "\t\tf1-score\tprecision\trecall\t\tsupport\n",
      "ddd consumidas\t0.000\t\t\t0.000\t\t\t0.000\t\t\t0\n",
      "entidade\t0.000\t\t\t0.000\t\t\t0.000\t\t\t1\n",
      "instituicao\t0.000\t\t\t0.000\t\t\t0.000\t\t\t0\n",
      "total dadores\t0.000\t\t\t0.000\t\t\t0.000\t\t\t0\n",
      "uls grupo\t0.000\t\t\t0.000\t\t\t0.000\t\t\t1\n"
     ]
    }
   ],
   "source": [
    "print(f\"\\t\\tf1-score\\tprecision\\trecall\\t\\tsupport\")\n",
    "\n",
    "for key, value in class_scores[len(class_scores)-5:len(class_scores)]:\n",
    "    if len(key) >= 8:\n",
    "        tabs = '\\t' * 1\n",
    "    else:\n",
    "        tabs = '\\t' * 2\n",
    "\n",
    "    print(f\"{key}{tabs}{value['f1-score']:.3f}\\t\\t\\t{value['precision']:.3f}\\t\\t\\t{value['recall']:.3f}\\t\\t\\t{value['support']}\")"
   ]
  },
  {
   "cell_type": "markdown",
   "id": "babc376c",
   "metadata": {},
   "source": [
    "# Classification report"
   ]
  },
  {
   "cell_type": "code",
   "execution_count": 21,
   "id": "ace470f6",
   "metadata": {},
   "outputs": [
    {
     "name": "stdout",
     "output_type": "stream",
     "text": [
      "                        precision    recall  f1-score   support\n",
      "\n",
      "          centro custo      0.000     0.000     0.000         0\n",
      "        ddd consumidas      0.000     0.000     0.000         0\n",
      "  dias de internamento      0.000     0.000     0.000         1\n",
      "              entidade      0.000     0.000     0.000         1\n",
      "           instituicao      0.000     0.000     0.000         0\n",
      "localizacao geografica      1.000     1.000     1.000         1\n",
      "               periodo      1.000     1.000     1.000         2\n",
      "                  peso      1.000     1.000     1.000         1\n",
      "         total dadores      0.000     0.000     0.000         0\n",
      "total de participantes      0.000     0.000     0.000         1\n",
      "             uls grupo      0.000     0.000     0.000         1\n",
      "\n",
      "              accuracy                          0.500         8\n",
      "             macro avg      0.273     0.273     0.273         8\n",
      "          weighted avg      0.500     0.500     0.500         8\n",
      "\n"
     ]
    }
   ],
   "source": [
    "print(classification_report(y_test, predicted_labels, digits=3))"
   ]
  },
  {
   "cell_type": "markdown",
   "id": "45071da7",
   "metadata": {},
   "source": [
    "### Verificação de labels que foram mal previstas"
   ]
  },
  {
   "cell_type": "code",
   "execution_count": 22,
   "id": "3e5d355c",
   "metadata": {},
   "outputs": [
    {
     "name": "stdout",
     "output_type": "stream",
     "text": [
      "[5] predicted correct \"periodo\" as \"periodo\"\n",
      "[7] predicted correct \"periodo\" as \"periodo\"\n",
      "Total mismatches: 4 (F1 score: 0.5)\n"
     ]
    },
    {
     "data": {
      "text/plain": [
       "[('dias de internamento', 1),\n",
       " ('total de participantes', 1),\n",
       " ('uls grupo', 1),\n",
       " ('entidade', 1)]"
      ]
     },
     "execution_count": 22,
     "metadata": {},
     "output_type": "execute_result"
    }
   ],
   "source": [
    "size = len(y_test)\n",
    "mismatches = list()\n",
    "\n",
    "for idx, k1 in enumerate(y_test[:size]):\n",
    "    k2 = predicted_labels[idx]\n",
    "    \n",
    "    if k1==k2:\n",
    "        if k2 in ('periodo'):\n",
    "            print(f'[{idx}] predicted correct \"{k1}\" as \"{k2}\"')\n",
    "\n",
    "    if k1 != k2:\n",
    "        mismatches.append(k1)\n",
    "        \n",
    "         #zoom in to specific errors. Use the index in the next step\n",
    "        if k1 in ('periodo'):\n",
    "            print(f'[{idx}] expected \"{k1}\" but predicted \"{k2}\"')\n",
    "        \n",
    "f1 = f1_score(y_test[:size], predicted_labels[:size], average=\"weighted\") \n",
    "print(f'Total mismatches: {len(mismatches)} (F1 score: {f1})')\n",
    "\n",
    "data = Counter(mismatches)\n",
    "data.most_common()   # Returns all unique items and their counts"
   ]
  },
  {
   "cell_type": "markdown",
   "id": "14c815ce",
   "metadata": {},
   "source": [
    "### Matriz de confusão "
   ]
  },
  {
   "cell_type": "code",
   "execution_count": 23,
   "id": "b51f8b12",
   "metadata": {},
   "outputs": [
    {
     "data": {
      "text/plain": [
       "array([[[7, 1],\n",
       "        [0, 0]],\n",
       "\n",
       "       [[7, 1],\n",
       "        [0, 0]],\n",
       "\n",
       "       [[7, 0],\n",
       "        [1, 0]],\n",
       "\n",
       "       [[7, 0],\n",
       "        [1, 0]],\n",
       "\n",
       "       [[7, 1],\n",
       "        [0, 0]],\n",
       "\n",
       "       [[7, 0],\n",
       "        [0, 1]],\n",
       "\n",
       "       [[6, 0],\n",
       "        [0, 2]],\n",
       "\n",
       "       [[7, 0],\n",
       "        [0, 1]],\n",
       "\n",
       "       [[7, 1],\n",
       "        [0, 0]],\n",
       "\n",
       "       [[7, 0],\n",
       "        [1, 0]],\n",
       "\n",
       "       [[7, 0],\n",
       "        [1, 0]]], dtype=int64)"
      ]
     },
     "execution_count": 23,
     "metadata": {},
     "output_type": "execute_result"
    }
   ],
   "source": [
    "from sklearn.metrics import multilabel_confusion_matrix\n",
    "cf_matrix=multilabel_confusion_matrix(y_test, predicted_labels)\n",
    "\n",
    "cf_matrix\n"
   ]
  },
  {
   "cell_type": "markdown",
   "id": "ced0f6d7",
   "metadata": {},
   "source": [
    "#### labels para a visualização da matriz de confusão"
   ]
  },
  {
   "cell_type": "code",
   "execution_count": 24,
   "id": "a9ef795c",
   "metadata": {},
   "outputs": [],
   "source": [
    "labels=['area atuacao princ. serv.','dias de internamento','entidade','instituicao','localizacao geografica',\n",
    "        'periodo','peso','proporcao jovens c/ pnv cumprido','total dadores','total de participantes','uls grupo']"
   ]
  },
  {
   "cell_type": "markdown",
   "id": "57ed0ff3",
   "metadata": {},
   "source": [
    "### Visualização da matriz de confusão"
   ]
  },
  {
   "cell_type": "code",
   "execution_count": 25,
   "id": "3472538d",
   "metadata": {},
   "outputs": [
    {
     "data": {
      "image/png": "[encoded data removed]",
      "text/plain": [
       "<Figure size 432x288 with 2 Axes>"
      ]
     },
     "metadata": {
      "needs_background": "light"
     },
     "output_type": "display_data"
    },
    {
     "data": {
      "image/png": "[encoded data removed]",
      "text/plain": [
       "<Figure size 432x288 with 2 Axes>"
      ]
     },
     "metadata": {
      "needs_background": "light"
     },
     "output_type": "display_data"
    },
    {
     "data": {
      "image/png": "[encoded data removed]",
      "text/plain": [
       "<Figure size 432x288 with 2 Axes>"
      ]
     },
     "metadata": {
      "needs_background": "light"
     },
     "output_type": "display_data"
    },
    {
     "data": {
      "image/png": "[encoded data removed]",
      "text/plain": [
       "<Figure size 432x288 with 2 Axes>"
      ]
     },
     "metadata": {
      "needs_background": "light"
     },
     "output_type": "display_data"
    },
    {
     "data": {
      "image/png": "[encoded data removed]",
      "text/plain": [
       "<Figure size 432x288 with 2 Axes>"
      ]
     },
     "metadata": {
      "needs_background": "light"
     },
     "output_type": "display_data"
    },
    {
     "data": {
      "image/png": "[encoded data removed]",
      "text/plain": [
       "<Figure size 432x288 with 2 Axes>"
      ]
     },
     "metadata": {
      "needs_background": "light"
     },
     "output_type": "display_data"
    },
    {
     "data": {
      "image/png": "[encoded data removed]",
      "text/plain": [
       "<Figure size 432x288 with 2 Axes>"
      ]
     },
     "metadata": {
      "needs_background": "light"
     },
     "output_type": "display_data"
    },
    {
     "data": {
      "image/png": "[encoded data removed]",
      "text/plain": [
       "<Figure size 432x288 with 2 Axes>"
      ]
     },
     "metadata": {
      "needs_background": "light"
     },
     "output_type": "display_data"
    },
    {
     "data": {
      "image/png": "[encoded data removed]",
      "text/plain": [
       "<Figure size 432x288 with 2 Axes>"
      ]
     },
     "metadata": {
      "needs_background": "light"
     },
     "output_type": "display_data"
    },
    {
     "data": {
      "image/png": "[encoded data removed]",
      "text/plain": [
       "<Figure size 432x288 with 2 Axes>"
      ]
     },
     "metadata": {
      "needs_background": "light"
     },
     "output_type": "display_data"
    },
    {
     "data": {
      "image/png": "[encoded data removed]",
      "text/plain": [
       "<Figure size 432x288 with 2 Axes>"
      ]
     },
     "metadata": {
      "needs_background": "light"
     },
     "output_type": "display_data"
    },
    {
     "name": "stdout",
     "output_type": "stream",
     "text": [
      "[[76  4]\n",
      " [ 4  4]]\n"
     ]
    }
   ],
   "source": [
    "array = [[0,0],[0,0]]\n",
    "for i,l in zip(cf_matrix,labels):\n",
    "    c = i\n",
    "    # soma as matrizes de confusões\n",
    "    array = array + c\n",
    "    plt.title(l)\n",
    "    ax= plt.subplot()\n",
    "    sns.heatmap(i, annot=True, cmap='Blues',fmt='d',ax=ax)\n",
    "    ax.xaxis.set_ticklabels(['False','True'])\n",
    "    ax.yaxis.set_ticklabels(['False','True'])\n",
    "    \n",
    "    plt.show()\n",
    "print(array)\n"
   ]
  },
  {
   "cell_type": "markdown",
   "id": "9624349b",
   "metadata": {},
   "source": [
    "### Inicialização do modelo para testes posteriores"
   ]
  },
  {
   "cell_type": "code",
   "execution_count": 26,
   "id": "fc8703ac",
   "metadata": {},
   "outputs": [
    {
     "name": "stderr",
     "output_type": "stream",
     "text": [
      "W0702 12:48:13.652064 10468 deprecation.py:506] From C:\\Users\\Utilizador\\AppData\\Roaming\\Python\\Python37\\site-packages\\tensorflow_core\\python\\ops\\init_ops.py:97: calling Zeros.__init__ (from tensorflow.python.ops.init_ops) with dtype is deprecated and will be removed in a future version.\n",
      "Instructions for updating:\n",
      "Call initializer instance with the dtype argument instead of passing it to the constructor\n",
      "W0702 12:48:13.653030 10468 deprecation.py:506] From C:\\Users\\Utilizador\\AppData\\Roaming\\Python\\Python37\\site-packages\\tensorflow_core\\python\\ops\\init_ops.py:97: calling Ones.__init__ (from tensorflow.python.ops.init_ops) with dtype is deprecated and will be removed in a future version.\n",
      "Instructions for updating:\n",
      "Call initializer instance with the dtype argument instead of passing it to the constructor\n",
      "W0702 12:48:13.657063 10468 deprecation.py:506] From C:\\Users\\Utilizador\\AppData\\Roaming\\Python\\Python37\\site-packages\\tensorflow_core\\python\\ops\\init_ops.py:97: calling VarianceScaling.__init__ (from tensorflow.python.ops.init_ops) with dtype is deprecated and will be removed in a future version.\n",
      "Instructions for updating:\n",
      "Call initializer instance with the dtype argument instead of passing it to the constructor\n"
     ]
    },
    {
     "name": "stdout",
     "output_type": "stream",
     "text": [
      "Started at 2022-07-02 12:48:13.646034\n",
      "Initialized model.\n",
      "Finished at 2022-07-02 12:48:14.585066, took 0:00:00.939032 seconds\n"
     ]
    }
   ],
   "source": [
    "start = datetime.now()\n",
    "print(f'Started at {start}')\n",
    "\n",
    "model = SherlockModel();\n",
    "model.initialize_model_from_json(with_weights=True, model_id=\"sherlock\");\n",
    "\n",
    "print('Initialized model.')\n",
    "print(f'Finished at {datetime.now()}, took {datetime.now() - start} seconds')"
   ]
  },
  {
   "cell_type": "markdown",
   "id": "47db7294",
   "metadata": {},
   "source": [
    "### Top 3 de previsões"
   ]
  },
  {
   "cell_type": "code",
   "execution_count": 28,
   "id": "6e2a8c42",
   "metadata": {},
   "outputs": [],
   "source": [
    "def _proba_to_classes2(y_pred, model_id: str = \"sherlock\") -> np.array:\n",
    "    \"\"\"Get predicted semantic types from prediction vectors.\n",
    "\n",
    "    Parameters\n",
    "    ----------\n",
    "    y_pred\n",
    "        Nested vector with for each sample a vector of likelihoods per semantic type.\n",
    "    model_id\n",
    "        Identifier of model to use.\n",
    "\n",
    "    Returns\n",
    "    -------\n",
    "    y_pred\n",
    "        Array of Predicted semantic labels.\n",
    "    \"\"\"\n",
    "    arr=[]\n",
    "    for i in range(0, len(y_pred)):\n",
    "        y_pred_int = y_pred[i]\n",
    "        encoder = LabelEncoder()\n",
    "        encoder.classes_ = np.load(\n",
    "            f\"../sherlock-project/model_files/classes_{model_id}.npy\", allow_pickle=True\n",
    "        )\n",
    "\n",
    "        y_pred = encoder.inverse_transform(y_pred_int)\n",
    "        arr.append(y_pred)\n",
    "    return arr"
   ]
  },
  {
   "cell_type": "code",
   "execution_count": 29,
   "id": "bcca847a",
   "metadata": {},
   "outputs": [],
   "source": [
    "#funçao que dado um dataframe de features extraction da o top 3 de cada row\n",
    "def top_3_pred(df: pd.DataFrame):\n",
    "    n=3\n",
    "    for i in range(0, df.shape[0]):\n",
    "        print(f\"Row nº {i}\")\n",
    "        a=df.iloc[i:i+1,:]\n",
    "      \n",
    "    #n=3\n",
    "        probs = model.predict_proba(a)\n",
    "        best_n = np.argsort(probs, axis=1)[:,-n:]\n",
    "#best_n\n",
    "#for i in range(0, len(best_n)):  \n",
    " #   b= best_n[i]\n",
    "    #print(best_n[i])\n",
    "        best_n5=_proba_to_classes2(best_n, model_id)\n",
    "        for i in range(0, len(best_n5)):  \n",
    "            b= best_n5[i]\n",
    "    #for index, value in enumerate(b):\n",
    "     #   print(f\"S1_vec('{index}')<= {value}\")\n",
    "#print(best_n5)\n",
    "#probs\n",
    "#best_n5\n",
    "        ss=[]\n",
    "        for i, e in reversed(list(enumerate(b))):\n",
    "               ss.append(e)\n",
    "#ss \n",
    "    \n",
    "        print(\"Top 3 de Previsões:\")\n",
    "        for j,i in zip(range(1,4),range(0,3)):\n",
    "            print(f\" {j} -> {ss[i]}\") #ss[i]\n",
    "        print(\"\\n\")"
   ]
  },
  {
   "cell_type": "code",
   "execution_count": 30,
   "id": "5107e623",
   "metadata": {},
   "outputs": [],
   "source": [
    "#dad_sl= pd.read_parquet(\"../treino/dados_sinteticos_labels.parquet\")\n",
    "#dad_sl"
   ]
  },
  {
   "cell_type": "code",
   "execution_count": 31,
   "id": "1b59e816",
   "metadata": {},
   "outputs": [
    {
     "data": {
      "text/plain": [
       "array(['dias de internamento', 'peso', 'total de participantes',\n",
       "       'localizacao geografica', 'uls grupo', 'periodo', 'entidade',\n",
       "       'periodo'], dtype='<U22')"
      ]
     },
     "execution_count": 31,
     "metadata": {},
     "output_type": "execute_result"
    }
   ],
   "source": [
    "y_test"
   ]
  },
  {
   "cell_type": "code",
   "execution_count": 32,
   "id": "30d3440f",
   "metadata": {},
   "outputs": [
    {
     "name": "stdout",
     "output_type": "stream",
     "text": [
      "Row nº 0\n",
      "Top 3 de Previsões:\n",
      " 1 -> no doentes inscritos sigic\n",
      " 2 -> ddd consumidas\n",
      " 3 -> proporcao jovens c/ pnv cumprido\n",
      "\n",
      "\n",
      "Row nº 1\n",
      "Top 3 de Previsões:\n",
      " 1 -> peso\n",
      " 2 -> rt\n",
      " 3 -> proporcao jovens c/ pnv cumprido\n",
      "\n",
      "\n",
      "Row nº 2\n",
      "Top 3 de Previsões:\n",
      " 1 -> total dadores\n",
      " 2 -> milhoes de habitantes\n",
      " 3 -> virus da gripe\n",
      "\n",
      "\n",
      "Row nº 3\n",
      "Top 3 de Previsões:\n",
      " 1 -> localizacao geografica\n",
      " 2 -> vacinas\n",
      " 3 -> proporcao jovens c/ pnv cumprido\n",
      "\n",
      "\n",
      "Row nº 4\n",
      "Top 3 de Previsões:\n",
      " 1 -> consultas dos test. vit.\n",
      " 2 -> grupo hospitalar\n",
      " 3 -> local de trabalho\n",
      "\n",
      "\n",
      "Row nº 5\n",
      "Top 3 de Previsões:\n",
      " 1 -> periodo\n",
      " 2 -> cod. mes ini.\n",
      " 3 -> centro custo\n",
      "\n",
      "\n",
      "Row nº 6\n",
      "Top 3 de Previsões:\n",
      " 1 -> entidade\n",
      " 2 -> hospital\n",
      " 3 -> centro custo\n",
      "\n",
      "\n",
      "Row nº 7\n",
      "Top 3 de Previsões:\n",
      " 1 -> periodo\n",
      " 2 -> total dadores\n",
      " 3 -> virus da gripe\n",
      "\n",
      "\n"
     ]
    }
   ],
   "source": [
    "# vai ver o top 3 de previsoes do nossos dados sinteticos\n",
    "top_3_pred(X_test)"
   ]
  },
  {
   "cell_type": "markdown",
   "id": "ad546a1e",
   "metadata": {},
   "source": [
    "### Previsão das nossas labels de teste"
   ]
  },
  {
   "cell_type": "code",
   "execution_count": 34,
   "id": "74c6ba73",
   "metadata": {},
   "outputs": [
    {
     "data": {
      "text/plain": [
       "array(['no doentes inscritos sigic', 'peso', 'total dadores',\n",
       "       'localizacao geografica', 'consultas dos test. vit.', 'periodo',\n",
       "       'entidade', 'periodo'], dtype='<U61')"
      ]
     },
     "execution_count": 34,
     "metadata": {},
     "output_type": "execute_result"
    }
   ],
   "source": [
    "\n",
    "predicted_labels = model.predict(X_test, \"sherlock2.2\")\n",
    "\n",
    "predicted_labels "
   ]
  }
 ],
 "metadata": {
  "kernelspec": {
   "display_name": "Python 3 (ipykernel)",
   "language": "python",
   "name": "python3"
  },
  "language_info": {
   "codemirror_mode": {
    "name": "ipython",
    "version": 3
   },
   "file_extension": ".py",
   "mimetype": "text/x-python",
   "name": "python",
   "nbconvert_exporter": "python",
   "pygments_lexer": "ipython3",
   "version": "3.7.11"
  }
 },
 "nbformat": 4,
 "nbformat_minor": 5
}
