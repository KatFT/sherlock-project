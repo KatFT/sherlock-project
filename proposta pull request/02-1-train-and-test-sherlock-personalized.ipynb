{
 "cells": [
  {
   "cell_type": "markdown",
   "id": "3ade0a0d",
   "metadata": {},
   "source": [
    "# This notebook enables training and testing of Sherlock using personalized data"
   ]
  },
  {
   "cell_type": "markdown",
   "id": "0eced834",
   "metadata": {},
   "source": [
    "The procedure is:\n",
    "\n",
    "- Load your value dataset and your label dataset (value dataset should be preprocessed using the extract_feature() function and saved as a .parquet file)\n",
    "\n",
    "- Initialize model by training one from scratch (this will be useful because we'll have a model weigth file that can be useful for later procedures)\n",
    "\n",
    "- Evaluate and analyse the model predictions"
   ]
  },
  {
   "cell_type": "code",
   "execution_count": 1,
   "id": "e1523167",
   "metadata": {},
   "outputs": [],
   "source": [
    "%load_ext autoreload\n",
    "%autoreload 2"
   ]
  },
  {
   "cell_type": "code",
   "execution_count": 5,
   "id": "f4dfe0db",
   "metadata": {},
   "outputs": [],
   "source": [
    "# This will be the ID for the retrained model\n",
    "model_id = 'new_train_sherlock'"
   ]
  },
  {
   "cell_type": "code",
   "execution_count": 50,
   "id": "9c3aa2fb",
   "metadata": {},
   "outputs": [],
   "source": [
    "from ast import literal_eval\n",
    "from collections import Counter\n",
    "from datetime import datetime\n",
    "\n",
    "import numpy as np\n",
    "import pandas as pd\n",
    "import matplotlib.pyplot as plt\n",
    "import seaborn as sns\n",
    "from sklearn.preprocessing import LabelEncoder\n",
    "\n",
    "from sklearn.metrics import f1_score, classification_report\n",
    "\n",
    "from sherlock.deploy.model import SherlockModel\n",
    "from sklearn.model_selection import train_test_split\n"
   ]
  },
  {
   "cell_type": "markdown",
   "id": "a1f162be",
   "metadata": {},
   "source": [
    "# Split data into training, validation and testing"
   ]
  },
  {
   "cell_type": "markdown",
   "id": "04fac31a",
   "metadata": {},
   "source": [
    "First of all, we need to load our values dataset already preprocessed and our labels dataset "
   ]
  },
  {
   "cell_type": "code",
   "execution_count": 3,
   "id": "f3d89c87",
   "metadata": {},
   "outputs": [],
   "source": [
    "X= pd.read_parquet('feature_vectors_final3_novo.parquet')\n",
    "y=pd.read_parquet('labels_final3_novo.parquet').values.flatten()"
   ]
  },
  {
   "cell_type": "markdown",
   "id": "dd43d401",
   "metadata": {},
   "source": [
    "We're gonna see if we have unique labels on our dataset\n"
   ]
  },
  {
   "cell_type": "code",
   "execution_count": 4,
   "id": "155ae6f8",
   "metadata": {},
   "outputs": [
    {
     "data": {
      "text/plain": [
       "array([ 1,  1,  1,  1,  1,  1,  1,  1,  1,  1,  1,  1,  1,  1,  1,  1,  1,\n",
       "        1,  1,  1,  7,  1,  1,  1,  1,  1,  1,  1,  1,  1,  1,  1,  1,  1,\n",
       "        1,  1,  1,  1,  1,  1,  1,  1,  1,  1,  1,  1,  1,  1,  1,  2,  1,\n",
       "        1,  1,  1,  1,  1,  1,  1,  1,  1,  1,  2,  1,  2,  1,  2,  1,  1,\n",
       "        5,  2,  1,  1,  1,  1,  3,  2,  3,  1,  1,  1,  1, 14,  1,  1,  1,\n",
       "        1,  1,  1, 27,  1,  1,  1,  1,  1,  1,  1,  1,  1,  1,  1,  1,  1,\n",
       "        1,  1,  1,  1,  1,  1,  1,  1,  1,  1,  1,  1,  1,  1,  1,  1,  1,\n",
       "        1,  1,  1,  1,  1,  1,  1,  1,  1,  1,  1,  1,  1,  1,  1,  1,  1,\n",
       "        1,  1,  1,  1,  1,  1,  1,  1,  1,  1,  1,  1,  1,  1,  1,  1,  1,\n",
       "        1,  1,  1,  1,  1,  2,  1,  1,  1,  1, 50,  2,  3,  1,  1,  1,  1,\n",
       "        2,  1,  2,  1,  1,  1,  1,  1,  1,  1,  1,  1,  1,  1,  1, 24,  1,\n",
       "        1,  1,  1,  2,  1,  1,  1,  1,  1,  1,  1,  1,  1,  1,  1,  1,  1,\n",
       "        1,  1,  1,  1,  1,  1,  1,  1,  1,  1,  1,  1,  1,  1,  1,  1,  1,\n",
       "        1,  1,  1,  1,  1,  1,  1,  1,  1,  1,  1,  1,  1,  1,  1,  1,  1,\n",
       "        1,  1,  1,  1,  1,  1], dtype=int64)"
      ]
     },
     "execution_count": 4,
     "metadata": {},
     "output_type": "execute_result"
    }
   ],
   "source": [
    "unique , counts= np.unique(y, return_counts=True)\n",
    "counts"
   ]
  },
  {
   "cell_type": "code",
   "execution_count": 6,
   "id": "309019f1",
   "metadata": {},
   "outputs": [
    {
     "name": "stdout",
     "output_type": "stream",
     "text": [
      "[[' localizacao geografica' 1]\n",
      " ['% 1as consultas realizadas em tempo adequado' 1]\n",
      " ['% fraturas anca com cirurgia realizada nas primeiras 48 horas' 1]\n",
      " ['% gdh p/ proc. ambulatorizaveis' 1]\n",
      " ['% inscritos em lic dentro do tmrg' 1]\n",
      " ['% utentes inscritos na area do cidadao vs inscritos no rnu' 1]\n",
      " ['abrev. instituicao' 1]\n",
      " ['aces' 1]\n",
      " ['aces hosp. grupo' 1]\n",
      " ['adenovirus humano' 1]\n",
      " ['amostras' 1]\n",
      " ['anomalias congenitas do aparelho circulatorio' 1]\n",
      " ['anomalias congenitas do aparelho digestivo' 1]\n",
      " ['anomalias congenitas do aparelho genital' 1]\n",
      " ['anomalias congenitas do aparelho respiratorio' 1]\n",
      " ['anomalias congenitas do aparelho urinario' 1]\n",
      " ['anomalias congenitas do sistema nervoso central' 1]\n",
      " ['anomalias congenitas dos olhos, ouvido, face e pescoco' 1]\n",
      " ['anomalias cromossomicas' 1]\n",
      " ['anomalias e deformacoes do sistema musculo-esqueletico' 1]\n",
      " ['ars' 7]\n",
      " ['assistentes operacionais' 1]\n",
      " ['assistentes tecnicos' 1]\n",
      " ['ativos' 1]\n",
      " ['cod. acesso hosp. grupo' 1]\n",
      " ['cod. area atuacao princ. serv.' 1]\n",
      " ['cod. ars' 1]\n",
      " ['cod. centro custo' 1]\n",
      " ['cod. dia dara refer.' 1]\n",
      " ['cod. dia. data inicio uf serv. depart.' 1]\n",
      " ['cod. hier. loc.' 1]\n",
      " ['cod. instituicao' 1]\n",
      " ['cod. mes ini. mapeam. cc. hier. loc.' 1]\n",
      " ['cod. mes ini. nome uf serv. dep.' 1]\n",
      " ['cod. nivel acesso' 1]\n",
      " ['cod. uls grupo' 1]\n",
      " ['codigo' 1]\n",
      " ['concelhos' 1]\n",
      " ['consultas dos test. vit. pelos utentes area do cidadao' 1]\n",
      " ['consultas dos test. vit. portal do profissional' 1]\n",
      " ['consumo' 1]\n",
      " ['coronavirus humano' 1]\n",
      " ['criancas com pnv totalmente cumprido na data do 2o aniversario' 1]\n",
      " ['criancas com pnv totalmente cumprido na data do 7o aniversario' 1]\n",
      " ['dadores de 1a vez' 1]\n",
      " ['dadores inscritos' 1]\n",
      " ['dadores regulares' 1]\n",
      " ['ddd consumidas de carbapenemes' 1]\n",
      " ['ddd consumidas de cefalosporinas' 1]\n",
      " ['ddd consumidas dos restantes ant.' 2]\n",
      " ['des. area atuacao princ. serv.' 1]\n",
      " ['des. centro custo' 1]\n",
      " ['des. instituicao' 1]\n",
      " ['des. nivel acesso' 1]\n",
      " ['des. tipo uf serv. depart.' 1]\n",
      " ['designacao' 1]\n",
      " ['desvio padrao da idade dos utentes novos' 1]\n",
      " ['dias de internamento' 1]\n",
      " ['distribuidas' 1]\n",
      " ['doenca de declaracao obrigatoria' 1]\n",
      " ['doentes saidos' 1]\n",
      " ['doses' 2]\n",
      " ['doses desconhecidas' 1]\n",
      " ['doses1' 2]\n",
      " ['doses1 %' 1]\n",
      " ['doses2' 2]\n",
      " ['doses2 %' 1]\n",
      " ['enfermeiros' 1]\n",
      " ['entidade' 5]\n",
      " ['entidade ' 2]\n",
      " ['estado civil' 1]\n",
      " ['farmaceuticos' 1]\n",
      " ['fenda labial e fenda palatina' 1]\n",
      " ['grupo etario' 1]\n",
      " ['grupo hospitalar' 3]\n",
      " ['grupo sanguineo' 2]\n",
      " ['hospital' 3]\n",
      " ['idade media dos utentes novos' 1]\n",
      " ['indice icaro' 1]\n",
      " ['infecao 2+ agentes respiratorios' 1]\n",
      " ['informaticos' 1]\n",
      " ['instituicao' 14]\n",
      " ['instituicao de saude' 1]\n",
      " ['internados' 1]\n",
      " ['intituicao' 1]\n",
      " ['jovens com pnv totalmente cumprido na data do 14o aniversario' 1]\n",
      " ['lab' 1]\n",
      " ['local de trabalho' 1]\n",
      " ['localizacao geografica' 27]\n",
      " ['lotacao praticada' 1]\n",
      " ['media de participantes por minutos de sessao pds' 1]\n",
      " ['media sessoes pds live' 1]\n",
      " ['medicos internos' 1]\n",
      " ['medicos s/ internos' 1]\n",
      " ['metapneumovirus' 1]\n",
      " ['milhoes de habitantes' 1]\n",
      " ['mortalidade avc hemorragico 30 dias' 1]\n",
      " ['mortalidade avc isquemico 30 dias' 1]\n",
      " ['mortalidade mensal' 1]\n",
      " ['n_confirmados' 1]\n",
      " ['naturalidade' 1]\n",
      " ['nivel' 1]\n",
      " ['nivel hierarquia' 1]\n",
      " ['no casos sindroma gripal testados' 1]\n",
      " ['no consultas medicas total' 1]\n",
      " ['no de doentes em le' 1]\n",
      " ['no dias de internamento' 1]\n",
      " ['no doentes inscritos dentro do tmrg sigic' 1]\n",
      " ['no doentes inscritos sigic' 1]\n",
      " ['no ep. cir. amb e int c/ proc. ambulatorizaveis' 1]\n",
      " ['no ep. cir. amb. c/ proc. ambulatorizaveis' 1]\n",
      " ['no ep. utentes c/ cir. real. nas 1as 48h apos admissao' 1]\n",
      " ['no ep. utentes c/ cirurgia realizada' 1]\n",
      " ['no intervencoes cirurgicas convencionais' 1]\n",
      " ['no intervencoes cirurgicas de ambulatorio' 1]\n",
      " ['no intervencoes cirurgicas programadas' 1]\n",
      " ['no intervencoes cirurgicas urgentes' 1]\n",
      " ['no orgaos transplantados' 1]\n",
      " ['no primeiras ce prestadas dentro do tmrg' 1]\n",
      " ['no primeiras ce realizadas com registo no cth' 1]\n",
      " ['no s/ t.m.' 1]\n",
      " ['no su t.m. amarela' 1]\n",
      " ['no su t.m. azul' 1]\n",
      " ['no su t.m. branca' 1]\n",
      " ['no su t.m. laranja' 1]\n",
      " ['no su t.m. verde' 1]\n",
      " ['no su t.m. vermelha' 1]\n",
      " ['no utentes' 1]\n",
      " ['no utentes inscritos na area do cidadao' 1]\n",
      " ['nome proprio' 1]\n",
      " ['nomenclatura portuguesa do dispositivo medico (npdm)' 1]\n",
      " ['nr casos' 1]\n",
      " ['nr casos gripe testados' 1]\n",
      " ['nr casos notificados ' 1]\n",
      " ['nr cesarianas' 1]\n",
      " ['nr consultas' 1]\n",
      " ['nr dadores por milhao de habitantes' 1]\n",
      " ['nr dadores por milhao de habitantes (pmh)' 1]\n",
      " ['nr dispositivos medicos' 1]\n",
      " ['nr indiciados nao toxicodependentes' 1]\n",
      " ['nr indiciados toxicodependentes' 1]\n",
      " ['nr internamentos' 1]\n",
      " ['nr internamentos com dispositivos medicos' 1]\n",
      " ['nr noticias nascimento' 1]\n",
      " ['nr orgaos colhidos' 1]\n",
      " ['nr processos de contraordenacao' 1]\n",
      " ['nr reg. nascer utente' 1]\n",
      " ['nr telefone' 1]\n",
      " ['nr total amostras analisadas' 1]\n",
      " ['nr total amostras positivas' 1]\n",
      " ['nr total amostras positivas > valor parametrico' 1]\n",
      " ['nr total de dadores' 1]\n",
      " ['nr total de dadores de orgaos' 1]\n",
      " ['nr total de partos' 1]\n",
      " ['nr virus respiratorios detetados' 1]\n",
      " ['obitos' 1]\n",
      " ['obitos de utentes com test. vit.' 1]\n",
      " ['ordem' 1]\n",
      " ['orgao' 2]\n",
      " ['outras anomalias congenitas' 1]\n",
      " ['outros' 1]\n",
      " ['pais' 1]\n",
      " ['parainfluenza virus' 1]\n",
      " ['periodo' 50]\n",
      " ['periodo ' 2]\n",
      " ['peso' 3]\n",
      " ['pessoas gripe' 1]\n",
      " ['pessoas inoculadas' 1]\n",
      " ['pessoas inoculadas %' 1]\n",
      " ['pessoas reforco' 1]\n",
      " ['pessoas vacinadas completamente' 2]\n",
      " ['pessoas vacinadas completamente %' 1]\n",
      " ['pessoas vacinadas parcialmente' 2]\n",
      " ['pessoas vacinadas parcialmente %' 1]\n",
      " ['populacao' 1]\n",
      " ['proporcao criancas 2 anos, c/ pnv cumprido ate 2 anos' 1]\n",
      " ['proporcao criancas 7 anos, c/ pnv cumprido ate 7 anos' 1]\n",
      " ['proporcao idosos ou doenca cronica, c/ vacina da gripe' 1]\n",
      " ['proporcao jovens 14 anos, c/ pnv cumprido ate 14 anos' 1]\n",
      " ['recebidas' 1]\n",
      " ['recem-nascidos c/ 1+ consulta med. vigil. < 28 dias de vida' 1]\n",
      " ['recem-nascidos c/ 1+ domicilio enf. < 15 dias de vida' 1]\n",
      " ['recem-nascidos c/ cons. med. vigil. ate 28 dias vida' 1]\n",
      " ['recem-nascidos c/ domicilio enf. ate 15 dias de vida   ' 1]\n",
      " ['recuperados' 1]\n",
      " ['regiao' 24]\n",
      " ['regiao ' 1]\n",
      " ['reservas' 1]\n",
      " ['residencia' 1]\n",
      " ['rinovirus humano' 1]\n",
      " ['rt' 2]\n",
      " ['semana' 1]\n",
      " ['sexo' 1]\n",
      " ['sexo feminino' 1]\n",
      " ['sexo masculino' 1]\n",
      " ['sintoma' 1]\n",
      " ['suspeitos' 1]\n",
      " ['taxa anual de ocupacao em internamento' 1]\n",
      " ['taxa de cobertura da vacina antigripal sazonal (%)' 1]\n",
      " ['taxa de incidencia de gripe semanal (100.000 hab)' 1]\n",
      " ['tecnicos de diagnostico e terapeutica' 1]\n",
      " ['tecnicos superiores' 1]\n",
      " ['tecnicos superiores de saude' 1]\n",
      " ['test. vit. de utentes c/ nacionalidade portuguesa' 1]\n",
      " ['tipo de especialidade' 1]\n",
      " ['tipo de utentes' 1]\n",
      " ['tipo instituicao' 1]\n",
      " ['tipo uf serv. separt.' 1]\n",
      " ['tipologia' 1]\n",
      " ['total' 1]\n",
      " ['total consultas telemedicina' 1]\n",
      " ['total dadores falecidos' 1]\n",
      " ['total dadores vivos' 1]\n",
      " ['total de conferencias' 1]\n",
      " ['total de minutos de conferencia' 1]\n",
      " ['total de participantes' 1]\n",
      " ['total geral' 1]\n",
      " ['total testamentos vitais ativos de utentes ' 1]\n",
      " ['total testamentos vitais de utentes ' 1]\n",
      " ['total testamentos vitais inativos de utentes ' 1]\n",
      " ['transmissao' 1]\n",
      " ['uf serv. depart. hier. loc.' 1]\n",
      " ['uls grupo' 1]\n",
      " ['unidades antibioticos' 1]\n",
      " ['unidades totais' 1]\n",
      " ['utentes em tratamento ' 1]\n",
      " ['utentes inscritos com a vacina da gripe prescrita ou efetuada nos ultimos 12 meses'\n",
      "  1]\n",
      " ['utentes novos' 1]\n",
      " ['utentes readmitidos' 1]\n",
      " ['vacinacao completa 05-11' 1]\n",
      " ['vacinacao iniciada 05-11' 1]\n",
      " ['vacinas' 1]\n",
      " ['vacinas reforco e gripe' 1]\n",
      " ['vigilancia' 1]\n",
      " ['virus da gripe' 1]\n",
      " ['virus da gripe a' 1]\n",
      " ['virus da gripe a(h1)' 1]\n",
      " ['virus da gripe a(h1)pdm09' 1]\n",
      " ['virus da gripe a(h3)' 1]\n",
      " ['virus da gripe b' 1]\n",
      " ['virus da gripe b (linhagem victoria)' 1]\n",
      " ['virus da gripe b (linhagem yamagata)' 1]\n",
      " ['virus da gripe dominante' 1]\n",
      " ['virus sincicial respiratorio' 1]]\n"
     ]
    }
   ],
   "source": [
    "print(np.asarray((unique, counts)).T)"
   ]
  },
  {
   "cell_type": "markdown",
   "id": "fd4297f3",
   "metadata": {},
   "source": [
    "As we can see, we have a lot of unique labels! What we're gonna is generalize the labels. We are gonna see which labels are related and then we are gonna rename it to a label that is commom. For example \"informaticos\" and \"medicos\" can be renamed \"profissoes\"."
   ]
  },
  {
   "cell_type": "code",
   "execution_count": 7,
   "id": "de6d5162",
   "metadata": {},
   "outputs": [],
   "source": [
    "\n",
    "y = np.array([('virus da gripe') if \"virus da gripe\" in item else item for item in y])\n",
    "y = np.array([('anomalias congenitas') if \"anomalias congenitas\" in item else item for item in y])\n",
    "y = np.array([('anomalias congenitas') if \"fenda labial e fenda palatina\" in item else item for item in y])\n",
    "y = np.array([('anomalias congenitas') if \"anomalias\" in item else item for item in y])\n",
    "y = np.array([('recem-nascidos') if \"recem-nascidos\" in item else item for item in y])\n",
    "y = np.array([('recem-nascidos') if \"recem-nascidos\" in item else item for item in y])\n",
    "y = np.array([('total dadores') if \"total dadores\" in item else item for item in y])\n",
    "y = np.array([('total dadores') if \"nr total de dadores\" in item else item for item in y])\n",
    "y = np.array([('dadores') if \"dadores inscritos\" in item else item for item in y])\n",
    "y = np.array([('dadores') if \"dadores de 1a vez\" in item else item for item in y])\n",
    "y = np.array([('dadores') if \"dadores regulares\" in item else item for item in y])\n",
    "y = np.array([('ddd consumidas') if \"ddd consumidas\" in item else item for item in y])\n",
    "y = np.array([('proporcao criancas c/ pnv cumprido') if \"criancas com pnv\" in item else item for item in y])\n",
    "y = np.array([('proporcao criancas c/ pnv cumprido') if \"proporcao criancas\" in item else item for item in y])\n",
    "y = np.array([('proporcao jovens c/ pnv cumprido') if \"proporcao jovens\" in item else item for item in y])\n",
    "y = np.array([('utentes c/ vacina da gripe') if \"utentes inscritos com a vacina da gripe\" in item else item for item in y])\n",
    "y = np.array([('utentes c/ vacina da gripe') if \"proporcao idosos\" in item else item for item in y])\n",
    "y = np.array([('utentes c/ vacina da gripe') if \"proporcao idosos\" in item else item for item in y])\n",
    "y = np.array([('virus respiratorios') if \"nr virus respiratorios detetados\" in item else item for item in y])\n",
    "y = np.array([('virus respiratorios') if \"rinovirus humano\" in item else item for item in y])\n",
    "y = np.array([('virus respiratorios') if \"virus sincicial respiratorio\" in item else item for item in y])\n",
    "y = np.array([('virus respiratorios') if \"parainfluenza virus\" in item else item for item in y])\n",
    "y = np.array([('virus respiratorios') if \"metapneumovirus\" in item else item for item in y])\n",
    "y = np.array([('virus respiratorios') if \"infecao 2+ agentes respiratorios\" in item else item for item in y])\n",
    "y = np.array([('nr total amostras positivas') if \"nr total amostras\" in item else item for item in y])\n",
    "y = np.array([('total testamentos vitais') if \"total testamentos vitais\" in item else item for item in y])\n",
    "y = np.array([('consultas dos test. vit.') if \"consultas dos test. vit.\" in item else item for item in y])\n",
    "y = np.array([('doses %') if \"doses1 %\" in item else item for item in y])\n",
    "y = np.array([('doses %') if \"doses2 %\" in item else item for item in y])\n",
    "y = np.array([('doses') if \"doses desconhecidas\" in item else item for item in y])\n",
    "y = np.array([('doses') if \"doses1\" in item else item for item in y])\n",
    "y = np.array([('doses') if \"doses2\" in item else item for item in y])\n",
    "y = np.array([('pessoas vacinadas %') if \"pessoas vacinadas parcialmente %\" in item else item for item in y])\n",
    "y = np.array([('pessoas vacinadas %') if \"pessoas vacinadas completamente %\" in item else item for item in y])\n",
    "y = np.array([('pessoas vacinadas %') if \"pessoas inoculadas %\" in item else item for item in y])\n",
    "y = np.array([('pessoas vacinadas') if \"pessoas vacinadas parcialmente\" in item else item for item in y])\n",
    "y = np.array([('pessoas vacinadas') if \"pessoas vacinadas completamente\" in item else item for item in y])\n",
    "y = np.array([('pessoas vacinadas') if \"pessoas inoculadas\" in item else item for item in y])\n",
    "y = np.array([('no su t.m.') if \"no su t.m.\" in item else item for item in y])\n",
    "y = np.array([('no ep. cir. amb.') if \"no ep. cir. amb\" in item else item for item in y])\n",
    "y = np.array([('no ep. utentes c/ cir.') if \"no ep. utentes c/ cir\" in item else item for item in y])\n",
    "y = np.array([('no doentes inscritos sigic') if \"no doentes inscritos\" in item else item for item in y])\n",
    "y = np.array([('no intervencoes cirurgicas') if \"no intervencoes cirurgicas\" in item else item for item in y])\n",
    "y = np.array([('mortalidade avc') if \"mortalidade avc\" in item else item for item in y])\n",
    "y = np.array([('medicos') if \"medicos\" in item else item for item in y])\n",
    "y = np.array([('tecnicos') if \"tecnicos\" in item else item for item in y])\n",
    "y = np.array([('no primeiras ce') if \"no primeiras ce\" in item else item for item in y])\n",
    "y = np.array([('total dadores') if \"nr dadores por milhao de habitantes (pmh)\" in item else item for item in y])\n",
    "y = np.array([('no utentes') if \"utentes novos\" in item else item for item in y])\n",
    "y = np.array([('no utentes') if \"utentes readmitidos\" in item else item for item in y])\n",
    "y = np.array([('no utentes') if \"utentes em tratamento \" in item else item for item in y])\n",
    "y = np.array([('sexo') if \"sexo masculino\" in item else item for item in y])\n",
    "y = np.array([('sexo') if \"sexo feminino\" in item else item for item in y])\n",
    "y = np.array([('nr indiciados') if \"nr indiciados\" in item else item for item in y])\n",
    "y = np.array([('virus respiratorios') if \"coronavirus humano\" in item else item for item in y])\n",
    "y = np.array([('virus respiratorios') if \"adenovirus humano\" in item else item for item in y])\n",
    "y = np.array([('centro custo') if \"centro custo\" in item else item for item in y])\n",
    "y = np.array([('instituicao') if \"instituicao\" in item else item for item in y])\n",
    "y = np.array([('area atuacao princ. serv.') if \"atuacao princ. serv.\" in item else item for item in y])\n",
    "y = np.array([('nivel acesso') if \"nivel acesso\" in item else item for item in y])\n",
    "y = np.array([('hosp. grupo') if \"hosp. grupo\" in item else item for item in y])\n",
    "y = np.array([('uls grupo') if \"uls grupo\" in item else item for item in y])\n",
    "y = np.array([('ars') if \"ars\" in item else item for item in y])\n",
    "y = np.array([('no confirmados') if \"n_confirmados\" in item else item for item in y])\n",
    "y = np.array([('dadores') if \"nr dadores por milhao de habitantes\" in item else item for item in y])\n",
    "y = np.array([('no casos') if \"nr casos notificados \" in item else item for item in y])\n",
    "y = np.array([('no casos gripe') if \"no casos sindroma gripal testados\" in item else item for item in y])\n",
    "y = np.array([('no casos gripe') if \"taxa de incidencia de gripe semanal (100.000 hab)\" in item else item for item in y])\n",
    "y = np.array([('proporcao jovens c/ pnv cumprido') if \"jovens com pnv totalmente cumprido na data do 14o aniversario\" in item else item for item in y])\n",
    "y = np.array([('vacinacao 05-11') if \"vacinacao iniciada 05-11\" in item else item for item in y])\n",
    "y = np.array([('vacinacao 05-11') if \"vacinacao completa 05-11\" in item else item for item in y])\n",
    "y = np.array([('instituicao') if \"intituicao\" in item else item for item in y])\n",
    "y = np.array([('mortalidade') if \"mortalidade\" in item else item for item in y])\n",
    "y = np.array([('nivel hierarquico') if \"nivel\" in item else item for item in y])\n",
    "y = np.array([('no su t.m.') if \"no s/\" in item else item for item in y])\n",
    "y = np.array([('no utentes') if \"no utentes\" in item else item for item in y])\n",
    "y = np.array([('nr casos') if \"nr casos\" in item else item for item in y])\n",
    "y = np.array([('no obitos') if \"obitos\" in item else item for item in y])\n",
    "y = np.array([('regiao') if \"residencia\" in item else item for item in y])\n",
    "y = np.array([('proporcao jovens c/ pnv cumprido') if \"proporcao criancas c/\" in item else item for item in y])\n",
    "y = np.array([('vacinas') if \"vacinas\" in item else item for item in y])\n",
    "y = np.array([('vacinas') if \"vacinacao 05-11\" in item else item for item in y])\n",
    "y = np.array([('no casos') if \"no casos\" in item else item for item in y])\n",
    "y = np.array([('no casos') if \"no confirmados\" in item else item for item in y])\n",
    "y = np.array([('% utentes inscritos') if \"% inscritos\" in item else item for item in y])\n",
    "y = np.array([('% utentes inscritos') if \"% utentes inscritos na area do cidadao vs inscritos no rnu\" in item else item for item in y])\n",
    "y = np.array([('profissao') if \"assistentes operacionais\" in item else item for item in y])\n",
    "y = np.array([('profissao') if \"enfermeiros\" in item else item for item in y])\n",
    "y = np.array([('profissao') if \"farmaceuticos\" in item else item for item in y])\n",
    "y = np.array([('profissao') if \"informaticos\" in item else item for item in y])\n",
    "y = np.array([('profissao') if \"medicos\" in item else item for item in y])\n",
    "y = np.array([('profissao') if \"tecnicos\" in item else item for item in y])\n",
    "y = np.array([('uls grupo') if \"aces\" in item else item for item in y])\n",
    "y = np.array([('cod. dia. data') if \"cod. dia da\" in item else item for item in y])\n",
    "y = np.array([('cod. mes ini.') if \"cod. mes ini.\" in item else item for item in y])\n",
    "y = np.array([('designacao') if \"des. tipo\" in item else item for item in y])\n",
    "y = np.array([('no de doentes') if \"no de doentes\" in item else item for item in y])\n",
    "y = np.array([('no ep. cir.') if \"no ep. utentes\" in item else item for item in y])\n",
    "y = np.array([('nr consultas') if \"no consultas\" in item else item for item in y])\n",
    "y = np.array([('no partos') if \"nr cesarianas\" in item else item for item in y])\n",
    "y = np.array([('no partos') if \"noticias nascimento\" in item else item for item in y])\n",
    "y = np.array([('no partos') if \"nr reg. nascer utente\" in item else item for item in y])\n",
    "y = np.array([('no partos') if \"nr total de partos\" in item else item for item in y])\n",
    "y = np.array([('pessoas vacinadas') if \"pessoas gripe\" in item else item for item in y])\n",
    "y = np.array([('pessoas vacinadas') if \"pessoas reforco\" in item else item for item in y])\n",
    "y = np.array([('vacinas') if \"reservas\" in item else item for item in y])\n",
    "y = np.array([('pessoas vacinadas') if \"utentes c/ vacina da gripe\" in item else item for item in y])\n",
    "y = np.array([('pessoas vacinadas') if \"utentes c/ vacina da gripe\" in item else item for item in y])\n",
    "y = np.array([('no utentes') if \"no de doentes\" in item else item for item in y])\n",
    "y = np.array([('no orgaos') if \"no orgaos transplantados\" in item else item for item in y])\n",
    "y = np.array([('no orgaos') if \"nr orgaos colhidos\" in item else item for item in y])\n",
    "y = np.array([x.strip() for x in y])"
   ]
  },
  {
   "cell_type": "markdown",
   "id": "3460f97c",
   "metadata": {},
   "source": [
    "let's see how much unique labels we have now"
   ]
  },
  {
   "cell_type": "code",
   "execution_count": 8,
   "id": "919e27ff",
   "metadata": {},
   "outputs": [
    {
     "data": {
      "text/plain": [
       "array([ 1,  1,  1,  2,  1, 11,  2,  8,  1,  2,  1,  1,  1,  2,  1,  1,  2,\n",
       "        1,  4,  4,  2,  1,  1,  1,  1,  7,  2,  7,  1,  1,  3,  2,  2,  3,\n",
       "        1, 20,  1,  1,  1, 28,  1,  1,  1,  1,  3,  1,  4,  4,  1,  2,  2,\n",
       "        2,  4,  2,  2,  4,  2,  7,  8,  1,  1,  2,  2,  2,  1,  1,  1,  3,\n",
       "        1,  2,  1,  1, 52,  3,  9,  3,  1, 12,  6,  1,  4,  1, 26,  2,  1,\n",
       "        3,  1,  1,  1,  1,  1,  1,  1,  1,  1,  1,  1,  5,  1,  1,  1,  1,\n",
       "        3,  1,  1,  3,  1,  1,  5,  1,  9,  8], dtype=int64)"
      ]
     },
     "execution_count": 8,
     "metadata": {},
     "output_type": "execute_result"
    }
   ],
   "source": [
    "unique , counts= np.unique(y, return_counts=True)\n",
    "counts"
   ]
  },
  {
   "cell_type": "markdown",
   "id": "d14413f7",
   "metadata": {},
   "source": [
    "That's much better! Now that we generelized the labels, we can proceed to the split of our training data!"
   ]
  },
  {
   "cell_type": "markdown",
   "id": "8dccbfcf",
   "metadata": {},
   "source": [
    "In this case, since our dataset is small, we will be splitting our Train/Test by 98%/2% at a random_state of 0, and then we can see how much the data the train has."
   ]
  },
  {
   "cell_type": "code",
   "execution_count": 14,
   "id": "6d337e1a",
   "metadata": {},
   "outputs": [
    {
     "name": "stdout",
     "output_type": "stream",
     "text": [
      "train: 374 (0.98)\n",
      "remaining: 8 (0.02)\n"
     ]
    }
   ],
   "source": [
    "# Separa o nosso conjunto de dados train (20%/80%)\n",
    "X_train, X_test, y_train, y_test= train_test_split( X, y, train_size=0.98,random_state=0)\n",
    "print (f\"train: {len(X_train)} ({(len(X_train) / len(X)):.2f})\\n\"\n",
    "       f\"remaining: {len(X_test)} ({(len(X_test) / len(X)):.2f})\")"
   ]
  },
  {
   "cell_type": "markdown",
   "id": "3d60330a",
   "metadata": {},
   "source": [
    "Next, we will be splitting our Tarin data into Train and Validation 96%/2%, because both Train and Validation dataset in the sherlock data has to have the same labels."
   ]
  },
  {
   "cell_type": "code",
   "execution_count": 16,
   "id": "1a27445e",
   "metadata": {},
   "outputs": [
    {
     "name": "stdout",
     "output_type": "stream",
     "text": [
      "train: 366 (0.96)\n",
      "val: 8 (0.02)\n",
      "test: 8 (0.02)\n"
     ]
    }
   ],
   "source": [
    "X_train, X_val, y_train, y_val = train_test_split( X_train, y_train, test_size=0.02,random_state=3)\n",
    "\n",
    "print(f\"train: {len(X_train)} ({len(X_train)/len(X):.2f})\\n\"\n",
    "      f\"val: {len(X_val)} ({len(X_val)/len(X):.2f})\\n\"\n",
    "      f\"test: {len(X_test)} ({len(X_test)/len(X):.2f})\")"
   ]
  },
  {
   "cell_type": "markdown",
   "id": "2925b863",
   "metadata": {},
   "source": [
    "Now one thing that we need to be careful is if all the data is in lowercase and if it has spaces before and after the string, because this can cause problems in our model training and predictions"
   ]
  },
  {
   "cell_type": "code",
   "execution_count": 17,
   "id": "f1ade3d4",
   "metadata": {},
   "outputs": [],
   "source": [
    "y_train = np.array([x.lower() for x in y_train])\n",
    "y_val = np.array([x.lower() for x in y_val])\n",
    "y_test = np.array([x.lower() for x in y_test])"
   ]
  },
  {
   "cell_type": "code",
   "execution_count": 18,
   "id": "3f8406da",
   "metadata": {},
   "outputs": [],
   "source": [
    "y_train = np.array([x.strip() for x in y_train]) \n",
    "y_val = np.array([x.strip() for x in y_val]) \n",
    "y_test = np.array([x.strip() for x in y_test])"
   ]
  },
  {
   "cell_type": "code",
   "execution_count": 19,
   "id": "1697a899",
   "metadata": {
    "scrolled": true
   },
   "outputs": [
    {
     "name": "stdout",
     "output_type": "stream",
     "text": [
      "Distinct types for columns in the Dataframe (should be all float32):\n",
      "{dtype('float32')}\n",
      "{dtype('float32')}\n",
      "{dtype('float32')}\n"
     ]
    }
   ],
   "source": [
    "print('Distinct types for columns in the Dataframe (should be all float32):')\n",
    "print(set(X_train.dtypes))\n",
    "print(set(X_val.dtypes))\n",
    "print(set(X_test.dtypes))"
   ]
  },
  {
   "cell_type": "markdown",
   "id": "eb148c8f",
   "metadata": {},
   "source": [
    "## Model initialization "
   ]
  },
  {
   "cell_type": "code",
   "execution_count": 28,
   "id": "1c996808",
   "metadata": {},
   "outputs": [
    {
     "name": "stdout",
     "output_type": "stream",
     "text": [
      "Started at 2022-07-05 02:19:07.364041\n",
      "Train on 366 samples, validate on 8 samples\n",
      "Epoch 1/100\n",
      "366/366 [==============================] - 1s 3ms/sample - loss: 4.8864 - categorical_accuracy: 0.0820 - val_loss: 4.8033 - val_categorical_accuracy: 0.0000e+00\n",
      "Epoch 2/100\n",
      "366/366 [==============================] - 0s 1ms/sample - loss: 4.0889 - categorical_accuracy: 0.2842 - val_loss: 4.6100 - val_categorical_accuracy: 0.1250\n",
      "Epoch 3/100\n",
      "366/366 [==============================] - 0s 1ms/sample - loss: 3.6790 - categorical_accuracy: 0.3169 - val_loss: 4.3725 - val_categorical_accuracy: 0.2500\n",
      "Epoch 4/100\n",
      "366/366 [==============================] - 0s 1ms/sample - loss: 3.4752 - categorical_accuracy: 0.3197 - val_loss: 4.1346 - val_categorical_accuracy: 0.2500\n",
      "Epoch 5/100\n",
      "366/366 [==============================] - 0s 1ms/sample - loss: 3.2841 - categorical_accuracy: 0.3716 - val_loss: 3.8785 - val_categorical_accuracy: 0.5000\n",
      "Epoch 6/100\n",
      "366/366 [==============================] - 0s 1ms/sample - loss: 3.1714 - categorical_accuracy: 0.3880 - val_loss: 3.6189 - val_categorical_accuracy: 0.6250\n",
      "Epoch 7/100\n",
      "366/366 [==============================] - 0s 1ms/sample - loss: 3.0553 - categorical_accuracy: 0.4126 - val_loss: 3.3254 - val_categorical_accuracy: 0.6250\n",
      "Epoch 8/100\n",
      "366/366 [==============================] - 0s 1ms/sample - loss: 2.9037 - categorical_accuracy: 0.4317 - val_loss: 3.0329 - val_categorical_accuracy: 0.6250\n",
      "Epoch 9/100\n",
      "366/366 [==============================] - 1s 1ms/sample - loss: 2.9144 - categorical_accuracy: 0.4536 - val_loss: 2.7879 - val_categorical_accuracy: 0.6250\n",
      "Epoch 10/100\n",
      "366/366 [==============================] - 0s 1ms/sample - loss: 2.8070 - categorical_accuracy: 0.4454 - val_loss: 2.6267 - val_categorical_accuracy: 0.6250\n",
      "Epoch 11/100\n",
      "366/366 [==============================] - 1s 1ms/sample - loss: 2.7598 - categorical_accuracy: 0.4426 - val_loss: 2.4148 - val_categorical_accuracy: 0.6250\n",
      "Epoch 12/100\n",
      "366/366 [==============================] - 1s 1ms/sample - loss: 2.6189 - categorical_accuracy: 0.4781 - val_loss: 2.2959 - val_categorical_accuracy: 0.6250\n",
      "Epoch 13/100\n",
      "366/366 [==============================] - 1s 2ms/sample - loss: 2.5710 - categorical_accuracy: 0.4727 - val_loss: 2.1604 - val_categorical_accuracy: 0.6250\n",
      "Epoch 14/100\n",
      "366/366 [==============================] - 1s 1ms/sample - loss: 2.5515 - categorical_accuracy: 0.4727 - val_loss: 2.0944 - val_categorical_accuracy: 0.6250\n",
      "Epoch 15/100\n",
      "366/366 [==============================] - 0s 1ms/sample - loss: 2.4065 - categorical_accuracy: 0.4781 - val_loss: 2.0401 - val_categorical_accuracy: 0.6250\n",
      "Epoch 16/100\n",
      "366/366 [==============================] - 1s 1ms/sample - loss: 2.3631 - categorical_accuracy: 0.5082 - val_loss: 1.9679 - val_categorical_accuracy: 0.6250\n",
      "Epoch 17/100\n",
      "366/366 [==============================] - 1s 1ms/sample - loss: 2.3069 - categorical_accuracy: 0.5082 - val_loss: 2.0403 - val_categorical_accuracy: 0.6250\n",
      "Epoch 18/100\n",
      "366/366 [==============================] - 1s 2ms/sample - loss: 2.2400 - categorical_accuracy: 0.5055 - val_loss: 1.9759 - val_categorical_accuracy: 0.6250\n",
      "Epoch 19/100\n",
      "366/366 [==============================] - 1s 2ms/sample - loss: 2.1592 - categorical_accuracy: 0.5246 - val_loss: 1.9787 - val_categorical_accuracy: 0.6250\n",
      "Epoch 20/100\n",
      "366/366 [==============================] - 1s 1ms/sample - loss: 2.1686 - categorical_accuracy: 0.5137 - val_loss: 1.8869 - val_categorical_accuracy: 0.6250\n",
      "Epoch 21/100\n",
      "366/366 [==============================] - 1s 2ms/sample - loss: 2.0920 - categorical_accuracy: 0.5383 - val_loss: 1.9146 - val_categorical_accuracy: 0.6250\n",
      "Epoch 22/100\n",
      "366/366 [==============================] - 1s 2ms/sample - loss: 2.0996 - categorical_accuracy: 0.5301 - val_loss: 1.8608 - val_categorical_accuracy: 0.6250\n",
      "Epoch 23/100\n",
      "366/366 [==============================] - 1s 2ms/sample - loss: 2.0057 - categorical_accuracy: 0.5464 - val_loss: 1.8948 - val_categorical_accuracy: 0.6250\n",
      "Epoch 24/100\n",
      "366/366 [==============================] - 1s 1ms/sample - loss: 1.9574 - categorical_accuracy: 0.5464 - val_loss: 1.9444 - val_categorical_accuracy: 0.6250\n",
      "Epoch 25/100\n",
      "366/366 [==============================] - 1s 2ms/sample - loss: 1.8527 - categorical_accuracy: 0.5792 - val_loss: 2.0555 - val_categorical_accuracy: 0.6250\n",
      "Epoch 26/100\n",
      "366/366 [==============================] - 0s 1ms/sample - loss: 1.8737 - categorical_accuracy: 0.5628 - val_loss: 2.0875 - val_categorical_accuracy: 0.6250\n",
      "Epoch 27/100\n",
      "366/366 [==============================] - 1s 2ms/sample - loss: 1.8067 - categorical_accuracy: 0.5820 - val_loss: 2.2108 - val_categorical_accuracy: 0.6250\n",
      "Trained and saved new model.\n",
      "Finished at 2022-07-05 02:19:23.308427, took 0:00:15.944386 seconds\n"
     ]
    }
   ],
   "source": [
    "model_id = \"new_train_sherlock\"\n",
    "start = datetime.now()\n",
    "print(f'Started at {start}')\n",
    "\n",
    "model = SherlockModel()\n",
    "# Model will be stored with ID `model_id`\n",
    "model.fit(X_train, y_train, X_val, y_val, model_id=model_id)\n",
    "\n",
    "print('Trained and saved new model.')\n",
    "print(f'Finished at {datetime.now()}, took {datetime.now() - start} seconds')"
   ]
  },
  {
   "cell_type": "markdown",
   "id": "8aeff84e",
   "metadata": {},
   "source": [
    "and now we store the weights"
   ]
  },
  {
   "cell_type": "code",
   "execution_count": 31,
   "id": "b8d1fb6f",
   "metadata": {},
   "outputs": [],
   "source": [
    "model.store_weights(model_id=model_id)"
   ]
  },
  {
   "cell_type": "markdown",
   "id": "8e0ecac3",
   "metadata": {},
   "source": [
    "## Make prediction"
   ]
  },
  {
   "cell_type": "code",
   "execution_count": 29,
   "id": "a17e084c",
   "metadata": {},
   "outputs": [],
   "source": [
    "predicted_labels = model.predict(X_test,model_id)\n",
    "predicted_labels = np.array([x.lower() for x in predicted_labels])"
   ]
  },
  {
   "cell_type": "code",
   "execution_count": 30,
   "id": "f36aafb1",
   "metadata": {},
   "outputs": [
    {
     "name": "stdout",
     "output_type": "stream",
     "text": [
      "prediction count 8, type = <class 'numpy.ndarray'>\n"
     ]
    },
    {
     "data": {
      "text/plain": [
       "0.625"
      ]
     },
     "execution_count": 30,
     "metadata": {},
     "output_type": "execute_result"
    }
   ],
   "source": [
    "print(f'prediction count {len(predicted_labels)}, type = {type(predicted_labels)}')\n",
    "\n",
    "size=len(y_test)\n",
    "\n",
    "# Should be fully deterministic too.\n",
    "f1_score(y_test[:size], predicted_labels[:size], average=\"weighted\")"
   ]
  },
  {
   "cell_type": "code",
   "execution_count": 32,
   "id": "aff774f1",
   "metadata": {},
   "outputs": [],
   "source": [
    "# If using the original model, model_id should be replaced with \"sherlock\"\n",
    "#model_id = \"sherlock\"\n",
    "import warnings\n",
    "warnings.filterwarnings('ignore')\n",
    "classes = np.load(f\"../sherlock-project/model_files/classes_{model_id}.npy\", allow_pickle=True)\n",
    "\n",
    "report = classification_report(y_test, predicted_labels, output_dict=True)\n",
    "\n",
    "class_scores = list(filter(lambda x: isinstance(x, tuple) and isinstance(x[1], dict) and 'f1-score' in x[1] and x[0] in classes, list(report.items())))\n",
    "\n",
    "class_scores = sorted(class_scores, key=lambda item: item[1]['f1-score'], reverse=True)"
   ]
  },
  {
   "cell_type": "markdown",
   "id": "e3bbad81",
   "metadata": {},
   "source": [
    "## TOP 5"
   ]
  },
  {
   "cell_type": "code",
   "execution_count": 33,
   "id": "cb802e6f",
   "metadata": {},
   "outputs": [
    {
     "name": "stdout",
     "output_type": "stream",
     "text": [
      "\t\tf1-score\tprecision\trecall\t\tsupport\n",
      "doenca de declaracao obrigatoria\t1.000\t\t1.000\t\t1.000\t\t1\n",
      "doses\t\t\t1.000\t\t1.000\t\t1.000\t\t1\n",
      "pessoas vacinadas\t1.000\t\t1.000\t\t1.000\t\t1\n",
      "profissao\t1.000\t\t1.000\t\t1.000\t\t1\n",
      "rt\t\t\t1.000\t\t1.000\t\t1.000\t\t1\n"
     ]
    }
   ],
   "source": [
    "print(f\"\\t\\tf1-score\\tprecision\\trecall\\t\\tsupport\")\n",
    "\n",
    "for key, value in class_scores[0:5]:\n",
    "    if len(key) >= 8:\n",
    "        tabs = '\\t' * 1\n",
    "    else:\n",
    "        tabs = '\\t' * 3\n",
    "\n",
    "    print(f\"{key}{tabs}{value['f1-score']:.3f}\\t\\t{value['precision']:.3f}\\t\\t{value['recall']:.3f}\\t\\t{value['support']}\")"
   ]
  },
  {
   "cell_type": "markdown",
   "id": "73bbb8bb",
   "metadata": {},
   "source": [
    "## BOTTOM 5"
   ]
  },
  {
   "cell_type": "code",
   "execution_count": 34,
   "id": "589d09ee",
   "metadata": {},
   "outputs": [
    {
     "name": "stdout",
     "output_type": "stream",
     "text": [
      "\t\tf1-score\tprecision\trecall\t\tsupport\n",
      "ddd consumidas\t0.000\t\t0.000\t\t0.000\t\t0\n",
      "doentes saidos\t0.000\t\t0.000\t\t0.000\t\t1\n",
      "no casos\t0.000\t\t0.000\t\t0.000\t\t1\n",
      "no intervencoes cirurgicas\t0.000\t\t0.000\t\t0.000\t\t1\n",
      "no su t.m.\t0.000\t\t0.000\t\t0.000\t\t0\n"
     ]
    }
   ],
   "source": [
    "print(f\"\\t\\tf1-score\\tprecision\\trecall\\t\\tsupport\")\n",
    "\n",
    "for key, value in class_scores[len(class_scores)-5:len(class_scores)]:\n",
    "    if len(key) >= 8:\n",
    "        tabs = '\\t' * 1\n",
    "    else:\n",
    "        tabs = '\\t' * 3\n",
    "\n",
    "    print(f\"{key}{tabs}{value['f1-score']:.3f}\\t\\t{value['precision']:.3f}\\t\\t{value['recall']:.3f}\\t\\t{value['support']}\")"
   ]
  },
  {
   "cell_type": "markdown",
   "id": "cf5f899e",
   "metadata": {},
   "source": [
    "## ALL THE VALUES"
   ]
  },
  {
   "cell_type": "code",
   "execution_count": 35,
   "id": "59904b7d",
   "metadata": {
    "scrolled": false
   },
   "outputs": [
    {
     "name": "stdout",
     "output_type": "stream",
     "text": [
      "                                  precision    recall  f1-score   support\n",
      "\n",
      "                  ddd consumidas      0.000     0.000     0.000         0\n",
      "doenca de declaracao obrigatoria      1.000     1.000     1.000         1\n",
      "                  doentes saidos      0.000     0.000     0.000         1\n",
      "                           doses      1.000     1.000     1.000         1\n",
      "                        no casos      0.000     0.000     0.000         1\n",
      "      no intervencoes cirurgicas      0.000     0.000     0.000         1\n",
      "                      no su t.m.      0.000     0.000     0.000         0\n",
      "               pessoas vacinadas      1.000     1.000     1.000         1\n",
      "                       profissao      1.000     1.000     1.000         1\n",
      "                              rt      1.000     1.000     1.000         1\n",
      "\n",
      "                        accuracy                          0.625         8\n",
      "                       macro avg      0.500     0.500     0.500         8\n",
      "                    weighted avg      0.625     0.625     0.625         8\n",
      "\n"
     ]
    }
   ],
   "source": [
    "print(classification_report(y_test, predicted_labels, digits=3))"
   ]
  },
  {
   "cell_type": "markdown",
   "id": "64b6a377",
   "metadata": {},
   "source": [
    "## Review Errors"
   ]
  },
  {
   "cell_type": "code",
   "execution_count": 36,
   "id": "b5958ffc",
   "metadata": {},
   "outputs": [
    {
     "name": "stdout",
     "output_type": "stream",
     "text": [
      "Total mismatches: 3 (F1 score: 0.625)\n"
     ]
    },
    {
     "data": {
      "text/plain": [
       "[('doentes saidos', 1), ('no intervencoes cirurgicas', 1), ('no casos', 1)]"
      ]
     },
     "execution_count": 36,
     "metadata": {},
     "output_type": "execute_result"
    }
   ],
   "source": [
    "size = len(y_test)\n",
    "mismatches = list()\n",
    "\n",
    "for idx, k1 in enumerate(y_test[:size]):\n",
    "    k2 = predicted_labels[idx]\n",
    "    \n",
    "    if k1==k2:\n",
    "        if k2 in ('ars'):\n",
    "            print(f'[{idx}] predicted correct \"{k1}\" as \"{k2}\"')\n",
    "\n",
    "    if k1 != k2:\n",
    "        mismatches.append(k1)\n",
    "        \n",
    "        # zoom in to specific errors. Use the index in the next step\n",
    "        if k1 in ('ars'):\n",
    "            print(f'[{idx}] expected \"{k1}\" but predicted \"{k2}\"')\n",
    "        \n",
    "f1 = f1_score(y_test[:size], predicted_labels[:size], average=\"weighted\") \n",
    "print(f'Total mismatches: {len(mismatches)} (F1 score: {f1})')\n",
    "\n",
    "data = Counter(mismatches)\n",
    "data.most_common()   # Returns all unique items and their counts"
   ]
  },
  {
   "cell_type": "markdown",
   "id": "67f621c2",
   "metadata": {},
   "source": [
    "To visualize better the results, we are gonna make the confusion matrix"
   ]
  },
  {
   "cell_type": "code",
   "execution_count": 38,
   "id": "1532c45c",
   "metadata": {},
   "outputs": [],
   "source": [
    "from sklearn.metrics import multilabel_confusion_matrix\n",
    "cf_matrix=multilabel_confusion_matrix(y_test, predicted_labels)"
   ]
  },
  {
   "cell_type": "code",
   "execution_count": 39,
   "id": "2c5c9e80",
   "metadata": {},
   "outputs": [],
   "source": [
    "labels=['ddd consumidas','doenca de declaracao obrigatoria','doentes saidos','doses','no casos','no intervencoes cirurgicas', \n",
    "        'no su t.m.','pessoas vacinadas','profissao','rt']"
   ]
  },
  {
   "cell_type": "code",
   "execution_count": 44,
   "id": "65ab02c3",
   "metadata": {},
   "outputs": [
    {
     "data": {
      "image/png": "[encoded data removed]",
      "text/plain": [
       "<Figure size 432x288 with 2 Axes>"
      ]
     },
     "metadata": {
      "needs_background": "light"
     },
     "output_type": "display_data"
    },
    {
     "data": {
      "image/png": "[encoded data removed]",
      "text/plain": [
       "<Figure size 432x288 with 2 Axes>"
      ]
     },
     "metadata": {
      "needs_background": "light"
     },
     "output_type": "display_data"
    },
    {
     "data": {
      "image/png": "[encoded data removed]",
      "text/plain": [
       "<Figure size 432x288 with 2 Axes>"
      ]
     },
     "metadata": {
      "needs_background": "light"
     },
     "output_type": "display_data"
    },
    {
     "data": {
      "image/png": "[encoded data removed]",
      "text/plain": [
       "<Figure size 432x288 with 2 Axes>"
      ]
     },
     "metadata": {
      "needs_background": "light"
     },
     "output_type": "display_data"
    },
    {
     "data": {
      "image/png": "[encoded data removed]",
      "text/plain": [
       "<Figure size 432x288 with 2 Axes>"
      ]
     },
     "metadata": {
      "needs_background": "light"
     },
     "output_type": "display_data"
    },
    {
     "data": {
      "image/png": "[encoded data removed]",
      "text/plain": [
       "<Figure size 432x288 with 2 Axes>"
      ]
     },
     "metadata": {
      "needs_background": "light"
     },
     "output_type": "display_data"
    },
    {
     "data": {
      "image/png": "[encoded data removed]",
      "text/plain": [
       "<Figure size 432x288 with 2 Axes>"
      ]
     },
     "metadata": {
      "needs_background": "light"
     },
     "output_type": "display_data"
    },
    {
     "data": {
      "image/png": "[encoded data removed]",
      "text/plain": [
       "<Figure size 432x288 with 2 Axes>"
      ]
     },
     "metadata": {
      "needs_background": "light"
     },
     "output_type": "display_data"
    },
    {
     "data": {
      "image/png": "[encoded data removed]",
      "text/plain": [
       "<Figure size 432x288 with 2 Axes>"
      ]
     },
     "metadata": {
      "needs_background": "light"
     },
     "output_type": "display_data"
    },
    {
     "data": {
      "image/png": "[encoded data removed]",
      "text/plain": [
       "<Figure size 432x288 with 2 Axes>"
      ]
     },
     "metadata": {
      "needs_background": "light"
     },
     "output_type": "display_data"
    },
    {
     "name": "stdout",
     "output_type": "stream",
     "text": [
      "[[69  3]\n",
      " [ 3  5]]\n"
     ]
    }
   ],
   "source": [
    "array = [[0,0],[0,0]]\n",
    "for i,l in zip(cf_matrix,labels):\n",
    "    c = i\n",
    "    # soma as matrizes de confusões\n",
    "    array = array + c\n",
    "    plt.title(l)\n",
    "    ax= plt.subplot()\n",
    "    sns.heatmap(i, annot=True, cmap='Blues',fmt='d',ax=ax)\n",
    "    ax.xaxis.set_ticklabels(['False','True'])\n",
    "    ax.yaxis.set_ticklabels(['False','True'])\n",
    "    \n",
    "    plt.show()\n",
    "print(array)\n"
   ]
  },
  {
   "cell_type": "markdown",
   "id": "0e527a79",
   "metadata": {},
   "source": [
    "# Model Inicialization for posterior testing"
   ]
  },
  {
   "cell_type": "code",
   "execution_count": 45,
   "id": "75a11b67",
   "metadata": {},
   "outputs": [
    {
     "name": "stderr",
     "output_type": "stream",
     "text": [
      "W0705 02:24:01.220561 27104 deprecation.py:506] From C:\\Users\\Utilizador\\AppData\\Roaming\\Python\\Python37\\site-packages\\tensorflow_core\\python\\ops\\init_ops.py:97: calling Zeros.__init__ (from tensorflow.python.ops.init_ops) with dtype is deprecated and will be removed in a future version.\n",
      "Instructions for updating:\n",
      "Call initializer instance with the dtype argument instead of passing it to the constructor\n",
      "W0705 02:24:01.221563 27104 deprecation.py:506] From C:\\Users\\Utilizador\\AppData\\Roaming\\Python\\Python37\\site-packages\\tensorflow_core\\python\\ops\\init_ops.py:97: calling Ones.__init__ (from tensorflow.python.ops.init_ops) with dtype is deprecated and will be removed in a future version.\n",
      "Instructions for updating:\n",
      "Call initializer instance with the dtype argument instead of passing it to the constructor\n",
      "W0705 02:24:01.224561 27104 deprecation.py:506] From C:\\Users\\Utilizador\\AppData\\Roaming\\Python\\Python37\\site-packages\\tensorflow_core\\python\\ops\\init_ops.py:97: calling VarianceScaling.__init__ (from tensorflow.python.ops.init_ops) with dtype is deprecated and will be removed in a future version.\n",
      "Instructions for updating:\n",
      "Call initializer instance with the dtype argument instead of passing it to the constructor\n"
     ]
    },
    {
     "name": "stdout",
     "output_type": "stream",
     "text": [
      "Started at 2022-07-05 02:24:01.201494\n",
      "Initialized model.\n",
      "Finished at 2022-07-05 02:24:02.516561, took 0:00:01.315067 seconds\n"
     ]
    }
   ],
   "source": [
    "start = datetime.now()\n",
    "print(f'Started at {start}')\n",
    "\n",
    "model = SherlockModel();\n",
    "model.initialize_model_from_json(with_weights=True, model_id=\"sherlock\");\n",
    "\n",
    "print('Initialized model.')\n",
    "print(f'Finished at {datetime.now()}, took {datetime.now() - start} seconds')"
   ]
  },
  {
   "cell_type": "markdown",
   "id": "6ead8cf3",
   "metadata": {},
   "source": [
    "# Top 3 Predictions\n",
    "\n",
    "We have decided to try and make the top 3 of prediction for each label.\n",
    "We have adapted the _proba_to_classes() function into the _proba_to_classes2() that return a array of labels encoded.\n",
    "Then we have the top_3_pred() function that for each row of the database that we want to predict, the program primts te correspondent top 3 predictions"
   ]
  },
  {
   "cell_type": "code",
   "execution_count": 46,
   "id": "fd10b66e",
   "metadata": {},
   "outputs": [],
   "source": [
    "def _proba_to_classes2(y_pred, model_id: str = \"sherlock\") -> np.array:\n",
    "    \"\"\"Get predicted semantic types from prediction vectors.\n",
    "\n",
    "    Parameters\n",
    "    ----------\n",
    "    y_pred\n",
    "        Nested vector with for each sample a vector of likelihoods per semantic type.\n",
    "    model_id\n",
    "        Identifier of model to use.\n",
    "\n",
    "    Returns\n",
    "    -------\n",
    "    y_pred\n",
    "        Array of Predicted semantic labels.\n",
    "    \"\"\"\n",
    "    arr=[]\n",
    "    for i in range(0, len(y_pred)):\n",
    "        y_pred_int = y_pred[i]\n",
    "        encoder = LabelEncoder()\n",
    "        encoder.classes_ = np.load(\n",
    "            f\"../sherlock-project/model_files/classes_{model_id}.npy\", allow_pickle=True\n",
    "        )\n",
    "\n",
    "        y_pred = encoder.inverse_transform(y_pred_int)\n",
    "        arr.append(y_pred)\n",
    "    return arr"
   ]
  },
  {
   "cell_type": "code",
   "execution_count": 47,
   "id": "836c0be3",
   "metadata": {},
   "outputs": [],
   "source": [
    "#funçao que dado um dataframe de features extraction da o top 3 de cada row\n",
    "def top_3_pred(df: pd.DataFrame):\n",
    "    n=3\n",
    "    for i in range(0, df.shape[0]):\n",
    "        print(f\"Row nº {i}\")\n",
    "        a=df.iloc[i:i+1,:]\n",
    "      \n",
    "    #n=3\n",
    "        probs = model.predict_proba(a)\n",
    "        best_n = np.argsort(probs, axis=1)[:,-n:]\n",
    "#best_n\n",
    "#for i in range(0, len(best_n)):  \n",
    " #   b= best_n[i]\n",
    "    #print(best_n[i])\n",
    "        best_n5=_proba_to_classes2(best_n, model_id)\n",
    "        for i in range(0, len(best_n5)):  \n",
    "            b= best_n5[i]\n",
    "    #for index, value in enumerate(b):\n",
    "     #   print(f\"S1_vec('{index}')<= {value}\")\n",
    "#print(best_n5)\n",
    "#probs\n",
    "#best_n5\n",
    "        ss=[]\n",
    "        for i, e in reversed(list(enumerate(b))):\n",
    "               ss.append(e)\n",
    "#ss \n",
    "    \n",
    "        print(\"Top 3 de Previsões:\")\n",
    "        for j,i in zip(range(1,4),range(0,3)):\n",
    "            print(f\" {j} -> {ss[i]}\") #ss[i]\n",
    "        print(\"\\n\")"
   ]
  },
  {
   "cell_type": "markdown",
   "id": "5576d3fa",
   "metadata": {},
   "source": [
    "Visualization of our y_test (labels that we are gonna predict) "
   ]
  },
  {
   "cell_type": "code",
   "execution_count": 48,
   "id": "2b8ae82c",
   "metadata": {},
   "outputs": [
    {
     "data": {
      "text/plain": [
       "array(['doentes saidos', 'doses', 'rt', 'no intervencoes cirurgicas',\n",
       "       'no casos', 'profissao', 'doenca de declaracao obrigatoria',\n",
       "       'pessoas vacinadas'], dtype='<U32')"
      ]
     },
     "execution_count": 48,
     "metadata": {},
     "output_type": "execute_result"
    }
   ],
   "source": [
    "y_test"
   ]
  },
  {
   "cell_type": "code",
   "execution_count": 51,
   "id": "7e0d2db5",
   "metadata": {},
   "outputs": [
    {
     "name": "stdout",
     "output_type": "stream",
     "text": [
      "Row nº 0\n",
      "Top 3 de Previsões:\n",
      " 1 -> no su t.m.\n",
      " 2 -> dadores\n",
      " 3 -> no intervencoes cirurgicas\n",
      "\n",
      "\n",
      "Row nº 1\n",
      "Top 3 de Previsões:\n",
      " 1 -> no utentes\n",
      " 2 -> nr indiciados\n",
      " 3 -> nr total amostras positivas\n",
      "\n",
      "\n",
      "Row nº 2\n",
      "Top 3 de Previsões:\n",
      " 1 -> vacinas\n",
      " 2 -> rt\n",
      " 3 -> total testamentos vitais\n",
      "\n",
      "\n",
      "Row nº 3\n",
      "Top 3 de Previsões:\n",
      " 1 -> no intervencoes cirurgicas\n",
      " 2 -> ddd consumidas\n",
      " 3 -> no doentes inscritos sigic\n",
      "\n",
      "\n",
      "Row nº 4\n",
      "Top 3 de Previsões:\n",
      " 1 -> profissao\n",
      " 2 -> no su t.m.\n",
      " 3 -> mortalidade\n",
      "\n",
      "\n",
      "Row nº 5\n",
      "Top 3 de Previsões:\n",
      " 1 -> profissao\n",
      " 2 -> total testamentos vitais\n",
      " 3 -> consultas dos test. vit.\n",
      "\n",
      "\n",
      "Row nº 6\n",
      "Top 3 de Previsões:\n",
      " 1 -> doenca de declaracao obrigatoria\n",
      " 2 -> nomenclatura portuguesa do dispositivo medico (npdm)\n",
      " 3 -> entidade\n",
      "\n",
      "\n",
      "Row nº 7\n",
      "Top 3 de Previsões:\n",
      " 1 -> pessoas vacinadas\n",
      " 2 -> pessoas vacinadas %\n",
      " 3 -> doses %\n",
      "\n",
      "\n"
     ]
    }
   ],
   "source": [
    "# vai ver o top 3 de previsoes do nossos dados sinteticos\n",
    "top_3_pred(X_test)"
   ]
  },
  {
   "cell_type": "markdown",
   "id": "34bd1185",
   "metadata": {},
   "source": [
    "And if we want the predict only the top predict we do this method:"
   ]
  },
  {
   "cell_type": "code",
   "execution_count": 52,
   "id": "e6000c2e",
   "metadata": {},
   "outputs": [
    {
     "data": {
      "text/plain": [
       "array(['no su t.m.', 'no utentes', 'vacinas',\n",
       "       'no intervencoes cirurgicas', 'profissao', 'profissao',\n",
       "       'doenca de declaracao obrigatoria', 'pessoas vacinadas'],\n",
       "      dtype='<U61')"
      ]
     },
     "execution_count": 52,
     "metadata": {},
     "output_type": "execute_result"
    }
   ],
   "source": [
    "predicted_labels = model.predict(X_test, \"new_train_sherlock\")\n",
    "predicted_labels "
   ]
  }
 ],
 "metadata": {
  "kernelspec": {
   "display_name": "Python 3 (ipykernel)",
   "language": "python",
   "name": "python3"
  },
  "language_info": {
   "codemirror_mode": {
    "name": "ipython",
    "version": 3
   },
   "file_extension": ".py",
   "mimetype": "text/x-python",
   "name": "python",
   "nbconvert_exporter": "python",
   "pygments_lexer": "ipython3",
   "version": "3.7.11"
  }
 },
 "nbformat": 4,
 "nbformat_minor": 5
}
