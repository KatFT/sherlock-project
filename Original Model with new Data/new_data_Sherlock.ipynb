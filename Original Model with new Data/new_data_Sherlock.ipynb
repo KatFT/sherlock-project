{
 "cells": [
  {
   "cell_type": "code",
   "execution_count": 1,
   "id": "edcb67f5",
   "metadata": {},
   "outputs": [],
   "source": [
    "from ast import literal_eval\n",
    "from collections import Counter\n",
    "from datetime import datetime\n",
    "import numpy as np\n",
    "import pandas as pd\n",
    "\n",
    "from sklearn.metrics import f1_score, classification_report\n",
    "\n",
    "from sherlock.deploy.model import SherlockModel\n",
    "from sherlock.features.helpers import generate_chars_col\n",
    "from sklearn import *\n",
    "import os\n",
    "import gdown\n",
    "import random\n",
    "from sklearn.metrics import confusion_matrix, ConfusionMatrixDisplay\n",
    "\n",
    "import seaborn as sns\n",
    "import matplotlib.pyplot as plt\n",
    "#from matplotlib import pyplot as plt\n",
    "from pyarrow.parquet import ParquetFile\n",
    "#from googletrans import Translator\n",
    "import string\n",
    "import pyarrow.lib\n",
    "import ast\n",
    "import re\n",
    "import string\n",
    "import csv\n",
    "import io\n",
    "import statistics as statistics\n",
    "import itertools\n",
    "import math as math\n",
    "%matplotlib inline\n",
    "# set seed for reproducibility\n",
    "np.random.seed(0) \n",
    "from collections import OrderedDict\n",
    "from nltk.stem.snowball import SnowballStemmer\n",
    "import gensim\n",
    "from gensim.models import Word2Vec\n",
    "from gensim.models.doc2vec import Doc2Vec, TaggedDocument\n",
    "from functional import pseq, seq\n",
    "from nltk.tokenize import word_tokenize\n",
    "from nltk.corpus import stopwords\n",
    "from typing import Union, Tuple\n",
    "import nltk\n",
    "from tqdm import tqdm\n",
    "from unidecode import unidecode\n",
    "from sklearn.model_selection import train_test_split\n",
    "from sklearn import metrics\n",
    "\n",
    "import tensorflow as tf\n",
    "\n",
    "from sklearn.preprocessing import LabelEncoder\n",
    "from tensorflow.keras.callbacks import EarlyStopping\n",
    "from tensorflow.keras.layers import (\n",
    "    Input,\n",
    "    Dense,\n",
    "    Dropout,\n",
    "    BatchNormalization,\n",
    "    concatenate,\n",
    ")\n",
    "from tensorflow.keras.models import Model, model_from_json\n",
    "\n",
    "from sherlock.deploy import helpers\n",
    "from sklearn.preprocessing import OneHotEncoder\n",
    "from sklearn.preprocessing import OrdinalEncoder\n",
    "\n"
   ]
  },
  {
   "cell_type": "code",
   "execution_count": 2,
   "id": "5c3ada4e",
   "metadata": {},
   "outputs": [],
   "source": [
    "model_id = \"sherlock2.2\" #retreinar sherlock"
   ]
  },
  {
   "cell_type": "code",
   "execution_count": 3,
   "id": "4055d418",
   "metadata": {},
   "outputs": [],
   "source": [
    "\n",
    "X= pd.read_parquet('feature_vectors_final3_novo.parquet')\n",
    "y=pd.read_parquet('labels_final3_novo.parquet').values.flatten()"
   ]
  },
  {
   "cell_type": "code",
   "execution_count": 4,
   "id": "964b701d",
   "metadata": {},
   "outputs": [
    {
     "name": "stdout",
     "output_type": "stream",
     "text": [
      "train: 305 (0.80)\n",
      "remaining: 77 (0.20)\n"
     ]
    }
   ],
   "source": [
    "# Separa o nosso conjunto de dados train (20%/80%)\n",
    "X_train, X_, y_train, y_= train_test_split( X, y, train_size=0.80,random_state=0)\n",
    "print (f\"train: {len(X_train)} ({(len(X_train) / len(X)):.2f})\\n\"\n",
    "       f\"remaining: {len(X_)} ({(len(X_) / len(X)):.2f})\")"
   ]
  },
  {
   "cell_type": "code",
   "execution_count": 5,
   "id": "40935207",
   "metadata": {},
   "outputs": [
    {
     "name": "stdout",
     "output_type": "stream",
     "text": [
      "train: 305 (0.80)\n",
      "val: 191 (0.50)\n",
      "test: 191 (0.50)\n"
     ]
    }
   ],
   "source": [
    "X_val, X_test, y_val, y_test = train_test_split( X, y, test_size=0.5,random_state=0)\n",
    "\n",
    "print(f\"train: {len(X_train)} ({len(X_train)/len(X):.2f})\\n\"\n",
    "      f\"val: {len(X_val)} ({len(X_val)/len(X):.2f})\\n\"\n",
    "      f\"test: {len(X_test)} ({len(X_test)/len(X):.2f})\")"
   ]
  },
  {
   "cell_type": "code",
   "execution_count": 6,
   "id": "10ecfaa2",
   "metadata": {},
   "outputs": [],
   "source": [
    "y_train = np.array([x.lower() for x in y_train])\n",
    "y_val = np.array([x.lower() for x in y_val])\n",
    "y_test = np.array([x.lower() for x in y_test])\n"
   ]
  },
  {
   "cell_type": "code",
   "execution_count": 7,
   "id": "2865fbcc",
   "metadata": {},
   "outputs": [],
   "source": [
    "y_train = np.array([x.strip() for x in y_train]) \n",
    "y_val = np.array([x.strip() for x in y_val]) \n",
    "y_test = np.array([x.strip() for x in y_test])"
   ]
  },
  {
   "cell_type": "code",
   "execution_count": 8,
   "id": "43a21e98",
   "metadata": {},
   "outputs": [
    {
     "name": "stdout",
     "output_type": "stream",
     "text": [
      "Distinct types for columns in the Dataframe (should be all float32):\n",
      "{dtype('float32')}\n",
      "{dtype('float32')}\n",
      "{dtype('float32')}\n"
     ]
    }
   ],
   "source": [
    "print('Distinct types for columns in the Dataframe (should be all float32):')\n",
    "print(set(X_train.dtypes))\n",
    "print(set(X_val.dtypes))\n",
    "print(set(X_test.dtypes))"
   ]
  },
  {
   "cell_type": "code",
   "execution_count": 12,
   "id": "483b6a40",
   "metadata": {},
   "outputs": [
    {
     "name": "stdout",
     "output_type": "stream",
     "text": [
      "Started at 2022-06-07 00:21:15.109550\n",
      "Train on 305 samples, validate on 191 samples\n",
      "Epoch 1/100\n",
      "305/305 [==============================] - 1s 5ms/sample - loss: 5.4071 - categorical_accuracy: 0.1148 - val_loss: 5.2481 - val_categorical_accuracy: 0.2356\n",
      "Epoch 2/100\n",
      "305/305 [==============================] - 1s 3ms/sample - loss: 4.6277 - categorical_accuracy: 0.2918 - val_loss: 4.8653 - val_categorical_accuracy: 0.3351\n",
      "Epoch 3/100\n",
      "305/305 [==============================] - 1s 3ms/sample - loss: 4.2670 - categorical_accuracy: 0.3115 - val_loss: 4.5810 - val_categorical_accuracy: 0.3246\n",
      "Epoch 4/100\n",
      "305/305 [==============================] - 1s 4ms/sample - loss: 4.0150 - categorical_accuracy: 0.3213 - val_loss: 4.1921 - val_categorical_accuracy: 0.3351\n",
      "Epoch 5/100\n",
      "305/305 [==============================] - 1s 3ms/sample - loss: 3.9352 - categorical_accuracy: 0.3082 - val_loss: 3.8640 - val_categorical_accuracy: 0.3455\n",
      "Epoch 6/100\n",
      "305/305 [==============================] - 1s 3ms/sample - loss: 3.8498 - categorical_accuracy: 0.3311 - val_loss: 3.6089 - val_categorical_accuracy: 0.3613\n",
      "Epoch 7/100\n",
      "305/305 [==============================] - 1s 3ms/sample - loss: 3.7862 - categorical_accuracy: 0.3311 - val_loss: 3.4069 - val_categorical_accuracy: 0.3717\n",
      "Epoch 8/100\n",
      "305/305 [==============================] - 1s 3ms/sample - loss: 3.7050 - categorical_accuracy: 0.3475 - val_loss: 3.2516 - val_categorical_accuracy: 0.3979\n",
      "Epoch 9/100\n",
      "305/305 [==============================] - 1s 3ms/sample - loss: 3.5720 - categorical_accuracy: 0.3607 - val_loss: 3.0982 - val_categorical_accuracy: 0.3979\n",
      "Epoch 10/100\n",
      "305/305 [==============================] - 1s 3ms/sample - loss: 3.5809 - categorical_accuracy: 0.3311 - val_loss: 2.9791 - val_categorical_accuracy: 0.4136\n",
      "Epoch 11/100\n",
      "305/305 [==============================] - 1s 3ms/sample - loss: 3.4548 - categorical_accuracy: 0.3574 - val_loss: 2.8681 - val_categorical_accuracy: 0.4293\n",
      "Epoch 12/100\n",
      "305/305 [==============================] - 1s 3ms/sample - loss: 3.3843 - categorical_accuracy: 0.3443 - val_loss: 2.7555 - val_categorical_accuracy: 0.4503\n",
      "Epoch 13/100\n",
      "305/305 [==============================] - 1s 3ms/sample - loss: 3.3063 - categorical_accuracy: 0.3672 - val_loss: 2.6665 - val_categorical_accuracy: 0.4555\n",
      "Epoch 14/100\n",
      "305/305 [==============================] - 1s 3ms/sample - loss: 3.2518 - categorical_accuracy: 0.3672 - val_loss: 2.5631 - val_categorical_accuracy: 0.4764\n",
      "Epoch 15/100\n",
      "305/305 [==============================] - 1s 3ms/sample - loss: 3.1375 - categorical_accuracy: 0.3803 - val_loss: 2.4470 - val_categorical_accuracy: 0.5026\n",
      "Epoch 16/100\n",
      "305/305 [==============================] - 1s 3ms/sample - loss: 3.0689 - categorical_accuracy: 0.4000 - val_loss: 2.3489 - val_categorical_accuracy: 0.5340\n",
      "Epoch 17/100\n",
      "305/305 [==============================] - 1s 3ms/sample - loss: 2.9524 - categorical_accuracy: 0.4098 - val_loss: 2.2454 - val_categorical_accuracy: 0.5654\n",
      "Epoch 18/100\n",
      "305/305 [==============================] - 1s 3ms/sample - loss: 2.9686 - categorical_accuracy: 0.4066 - val_loss: 2.1489 - val_categorical_accuracy: 0.5602\n",
      "Epoch 19/100\n",
      "305/305 [==============================] - 1s 3ms/sample - loss: 2.8593 - categorical_accuracy: 0.4164 - val_loss: 2.0304 - val_categorical_accuracy: 0.6126\n",
      "Epoch 20/100\n",
      "305/305 [==============================] - 1s 3ms/sample - loss: 2.7040 - categorical_accuracy: 0.4328 - val_loss: 1.9461 - val_categorical_accuracy: 0.6073\n",
      "Epoch 21/100\n",
      "305/305 [==============================] - 1s 3ms/sample - loss: 2.7035 - categorical_accuracy: 0.4262 - val_loss: 1.8613 - val_categorical_accuracy: 0.6440\n",
      "Epoch 22/100\n",
      "305/305 [==============================] - 1s 3ms/sample - loss: 2.6236 - categorical_accuracy: 0.4492 - val_loss: 1.7859 - val_categorical_accuracy: 0.6545\n",
      "Epoch 23/100\n",
      "305/305 [==============================] - 1s 3ms/sample - loss: 2.5599 - categorical_accuracy: 0.4656 - val_loss: 1.7226 - val_categorical_accuracy: 0.6859\n",
      "Epoch 24/100\n",
      "305/305 [==============================] - 1s 3ms/sample - loss: 2.5082 - categorical_accuracy: 0.4721 - val_loss: 1.6483 - val_categorical_accuracy: 0.6806\n",
      "Epoch 25/100\n",
      "305/305 [==============================] - 1s 3ms/sample - loss: 2.4945 - categorical_accuracy: 0.4557 - val_loss: 1.6031 - val_categorical_accuracy: 0.6911\n",
      "Epoch 26/100\n",
      "305/305 [==============================] - 1s 3ms/sample - loss: 2.3715 - categorical_accuracy: 0.5082 - val_loss: 1.5267 - val_categorical_accuracy: 0.7120\n",
      "Epoch 27/100\n",
      "305/305 [==============================] - 1s 3ms/sample - loss: 2.3415 - categorical_accuracy: 0.4820 - val_loss: 1.4855 - val_categorical_accuracy: 0.6963\n",
      "Epoch 28/100\n",
      "305/305 [==============================] - 1s 3ms/sample - loss: 2.2562 - categorical_accuracy: 0.5082 - val_loss: 1.4490 - val_categorical_accuracy: 0.7120\n",
      "Epoch 29/100\n",
      "305/305 [==============================] - 1s 3ms/sample - loss: 2.1959 - categorical_accuracy: 0.4984 - val_loss: 1.3935 - val_categorical_accuracy: 0.7277\n",
      "Epoch 30/100\n",
      "305/305 [==============================] - 1s 3ms/sample - loss: 2.0810 - categorical_accuracy: 0.5443 - val_loss: 1.3574 - val_categorical_accuracy: 0.7330\n",
      "Epoch 31/100\n",
      "305/305 [==============================] - 1s 3ms/sample - loss: 2.1814 - categorical_accuracy: 0.4918 - val_loss: 1.3112 - val_categorical_accuracy: 0.7487\n",
      "Epoch 32/100\n",
      "305/305 [==============================] - 1s 3ms/sample - loss: 2.1128 - categorical_accuracy: 0.5246 - val_loss: 1.2752 - val_categorical_accuracy: 0.7277\n",
      "Epoch 33/100\n",
      "305/305 [==============================] - 1s 3ms/sample - loss: 2.0356 - categorical_accuracy: 0.5443 - val_loss: 1.2374 - val_categorical_accuracy: 0.7592\n",
      "Epoch 34/100\n",
      "305/305 [==============================] - 1s 3ms/sample - loss: 1.9894 - categorical_accuracy: 0.5508 - val_loss: 1.1948 - val_categorical_accuracy: 0.7696\n",
      "Epoch 35/100\n",
      "305/305 [==============================] - 1s 3ms/sample - loss: 2.0297 - categorical_accuracy: 0.5344 - val_loss: 1.1744 - val_categorical_accuracy: 0.7906\n",
      "Epoch 36/100\n",
      "305/305 [==============================] - 1s 3ms/sample - loss: 1.9253 - categorical_accuracy: 0.5574 - val_loss: 1.1424 - val_categorical_accuracy: 0.7749\n",
      "Epoch 37/100\n",
      "305/305 [==============================] - 1s 4ms/sample - loss: 1.8699 - categorical_accuracy: 0.5869 - val_loss: 1.1128 - val_categorical_accuracy: 0.7801\n",
      "Epoch 38/100\n",
      "305/305 [==============================] - 1s 4ms/sample - loss: 1.8717 - categorical_accuracy: 0.5541 - val_loss: 1.0990 - val_categorical_accuracy: 0.7801\n",
      "Epoch 39/100\n",
      "305/305 [==============================] - 1s 4ms/sample - loss: 1.8171 - categorical_accuracy: 0.6098 - val_loss: 1.0716 - val_categorical_accuracy: 0.8115\n",
      "Epoch 40/100\n",
      "305/305 [==============================] - 1s 3ms/sample - loss: 1.8037 - categorical_accuracy: 0.5738 - val_loss: 1.0540 - val_categorical_accuracy: 0.7592\n",
      "Epoch 41/100\n",
      "305/305 [==============================] - 1s 3ms/sample - loss: 1.7461 - categorical_accuracy: 0.6098 - val_loss: 1.0200 - val_categorical_accuracy: 0.7749\n",
      "Epoch 42/100\n",
      "305/305 [==============================] - 1s 3ms/sample - loss: 1.7754 - categorical_accuracy: 0.5607 - val_loss: 1.0097 - val_categorical_accuracy: 0.7958\n",
      "Epoch 43/100\n",
      "305/305 [==============================] - 1s 3ms/sample - loss: 1.7873 - categorical_accuracy: 0.5770 - val_loss: 0.9905 - val_categorical_accuracy: 0.7906\n",
      "Epoch 44/100\n",
      "305/305 [==============================] - 1s 3ms/sample - loss: 1.7580 - categorical_accuracy: 0.5934 - val_loss: 0.9851 - val_categorical_accuracy: 0.7644\n",
      "Epoch 45/100\n",
      "305/305 [==============================] - 1s 3ms/sample - loss: 1.7571 - categorical_accuracy: 0.5770 - val_loss: 0.9517 - val_categorical_accuracy: 0.8220\n",
      "Epoch 46/100\n",
      "305/305 [==============================] - 1s 3ms/sample - loss: 1.7009 - categorical_accuracy: 0.5967 - val_loss: 0.9489 - val_categorical_accuracy: 0.7906\n",
      "Epoch 47/100\n",
      "305/305 [==============================] - 1s 3ms/sample - loss: 1.6888 - categorical_accuracy: 0.6033 - val_loss: 0.9113 - val_categorical_accuracy: 0.8220\n",
      "Epoch 48/100\n",
      "305/305 [==============================] - 1s 3ms/sample - loss: 1.6419 - categorical_accuracy: 0.6098 - val_loss: 0.9259 - val_categorical_accuracy: 0.7906\n"
     ]
    },
    {
     "name": "stdout",
     "output_type": "stream",
     "text": [
      "Epoch 49/100\n",
      "305/305 [==============================] - 1s 3ms/sample - loss: 1.6052 - categorical_accuracy: 0.6230 - val_loss: 0.9049 - val_categorical_accuracy: 0.8063\n",
      "Epoch 50/100\n",
      "305/305 [==============================] - 1s 3ms/sample - loss: 1.5793 - categorical_accuracy: 0.6361 - val_loss: 0.8899 - val_categorical_accuracy: 0.8168\n",
      "Epoch 51/100\n",
      "305/305 [==============================] - 1s 3ms/sample - loss: 1.5984 - categorical_accuracy: 0.6066 - val_loss: 0.8931 - val_categorical_accuracy: 0.8063\n",
      "Epoch 52/100\n",
      "305/305 [==============================] - 1s 3ms/sample - loss: 1.6184 - categorical_accuracy: 0.6131 - val_loss: 0.8987 - val_categorical_accuracy: 0.8063\n",
      "Epoch 53/100\n",
      "305/305 [==============================] - 1s 3ms/sample - loss: 1.6162 - categorical_accuracy: 0.6328 - val_loss: 0.8518 - val_categorical_accuracy: 0.8168\n",
      "Epoch 54/100\n",
      "305/305 [==============================] - 1s 3ms/sample - loss: 1.4685 - categorical_accuracy: 0.6393 - val_loss: 0.8366 - val_categorical_accuracy: 0.8325\n",
      "Epoch 55/100\n",
      "305/305 [==============================] - 1s 3ms/sample - loss: 1.4499 - categorical_accuracy: 0.6590 - val_loss: 0.8045 - val_categorical_accuracy: 0.8639\n",
      "Epoch 56/100\n",
      "305/305 [==============================] - 1s 3ms/sample - loss: 1.5017 - categorical_accuracy: 0.6656 - val_loss: 0.7952 - val_categorical_accuracy: 0.8534\n",
      "Epoch 57/100\n",
      "305/305 [==============================] - 1s 3ms/sample - loss: 1.4068 - categorical_accuracy: 0.6721 - val_loss: 0.7761 - val_categorical_accuracy: 0.8639\n",
      "Epoch 58/100\n",
      "305/305 [==============================] - 1s 3ms/sample - loss: 1.4498 - categorical_accuracy: 0.6393 - val_loss: 0.7703 - val_categorical_accuracy: 0.8743\n",
      "Epoch 59/100\n",
      "305/305 [==============================] - 1s 3ms/sample - loss: 1.4044 - categorical_accuracy: 0.6590 - val_loss: 0.7594 - val_categorical_accuracy: 0.8691\n",
      "Epoch 60/100\n",
      "305/305 [==============================] - 1s 3ms/sample - loss: 1.3350 - categorical_accuracy: 0.6951 - val_loss: 0.7683 - val_categorical_accuracy: 0.8377\n",
      "Epoch 61/100\n",
      "305/305 [==============================] - 1s 3ms/sample - loss: 1.4690 - categorical_accuracy: 0.6557 - val_loss: 0.7915 - val_categorical_accuracy: 0.8272\n",
      "Epoch 62/100\n",
      "305/305 [==============================] - 1s 3ms/sample - loss: 1.3987 - categorical_accuracy: 0.6459 - val_loss: 0.7433 - val_categorical_accuracy: 0.8586\n",
      "Epoch 63/100\n",
      "305/305 [==============================] - 1s 3ms/sample - loss: 1.4427 - categorical_accuracy: 0.6361 - val_loss: 0.7174 - val_categorical_accuracy: 0.8796\n",
      "Epoch 64/100\n",
      "305/305 [==============================] - 1s 3ms/sample - loss: 1.4012 - categorical_accuracy: 0.6721 - val_loss: 0.7057 - val_categorical_accuracy: 0.8691\n",
      "Epoch 65/100\n",
      "305/305 [==============================] - 1s 3ms/sample - loss: 1.3855 - categorical_accuracy: 0.6328 - val_loss: 0.7261 - val_categorical_accuracy: 0.8586\n",
      "Epoch 66/100\n",
      "305/305 [==============================] - 1s 3ms/sample - loss: 1.3020 - categorical_accuracy: 0.6820 - val_loss: 0.6988 - val_categorical_accuracy: 0.8743\n",
      "Epoch 67/100\n",
      "305/305 [==============================] - 1s 3ms/sample - loss: 1.3490 - categorical_accuracy: 0.6754 - val_loss: 0.6928 - val_categorical_accuracy: 0.8953\n",
      "Epoch 68/100\n",
      "305/305 [==============================] - 1s 3ms/sample - loss: 1.2865 - categorical_accuracy: 0.6852 - val_loss: 0.6969 - val_categorical_accuracy: 0.8901\n",
      "Epoch 69/100\n",
      "305/305 [==============================] - 1s 3ms/sample - loss: 1.2361 - categorical_accuracy: 0.7377 - val_loss: 0.7024 - val_categorical_accuracy: 0.8901\n",
      "Epoch 70/100\n",
      "305/305 [==============================] - 1s 3ms/sample - loss: 1.2498 - categorical_accuracy: 0.7016 - val_loss: 0.7072 - val_categorical_accuracy: 0.8691\n",
      "Epoch 71/100\n",
      "305/305 [==============================] - 1s 3ms/sample - loss: 1.2306 - categorical_accuracy: 0.6984 - val_loss: 0.6545 - val_categorical_accuracy: 0.9058\n",
      "Epoch 72/100\n",
      "305/305 [==============================] - 1s 3ms/sample - loss: 1.2985 - categorical_accuracy: 0.6918 - val_loss: 0.6675 - val_categorical_accuracy: 0.8901\n",
      "Epoch 73/100\n",
      "305/305 [==============================] - 1s 3ms/sample - loss: 1.2217 - categorical_accuracy: 0.7016 - val_loss: 0.6556 - val_categorical_accuracy: 0.8848\n",
      "Epoch 74/100\n",
      "305/305 [==============================] - 1s 3ms/sample - loss: 1.2631 - categorical_accuracy: 0.6852 - val_loss: 0.6623 - val_categorical_accuracy: 0.8848\n",
      "Epoch 75/100\n",
      "305/305 [==============================] - 1s 3ms/sample - loss: 1.2516 - categorical_accuracy: 0.6918 - val_loss: 0.6577 - val_categorical_accuracy: 0.8953\n",
      "Epoch 76/100\n",
      "305/305 [==============================] - 1s 3ms/sample - loss: 1.2996 - categorical_accuracy: 0.6590 - val_loss: 0.6523 - val_categorical_accuracy: 0.8848\n",
      "Epoch 77/100\n",
      "305/305 [==============================] - 1s 3ms/sample - loss: 1.2234 - categorical_accuracy: 0.6918 - val_loss: 0.6248 - val_categorical_accuracy: 0.9005\n",
      "Epoch 78/100\n",
      "305/305 [==============================] - 1s 3ms/sample - loss: 1.2186 - categorical_accuracy: 0.6918 - val_loss: 0.5940 - val_categorical_accuracy: 0.9267\n",
      "Epoch 79/100\n",
      "305/305 [==============================] - 1s 3ms/sample - loss: 1.2287 - categorical_accuracy: 0.7213 - val_loss: 0.5996 - val_categorical_accuracy: 0.9058\n",
      "Epoch 80/100\n",
      "305/305 [==============================] - 1s 3ms/sample - loss: 1.1881 - categorical_accuracy: 0.7246 - val_loss: 0.6200 - val_categorical_accuracy: 0.9110\n",
      "Epoch 81/100\n",
      "305/305 [==============================] - 1s 3ms/sample - loss: 1.2157 - categorical_accuracy: 0.7279 - val_loss: 0.6095 - val_categorical_accuracy: 0.9110\n",
      "Epoch 82/100\n",
      "305/305 [==============================] - 1s 3ms/sample - loss: 1.2102 - categorical_accuracy: 0.6951 - val_loss: 0.6033 - val_categorical_accuracy: 0.9110\n",
      "Epoch 83/100\n",
      "305/305 [==============================] - 1s 3ms/sample - loss: 1.1218 - categorical_accuracy: 0.7279 - val_loss: 0.6061 - val_categorical_accuracy: 0.9267\n",
      "Trained and saved new model.\n",
      "Finished at 2022-06-07 00:22:30.099843, took 0:01:14.990293 seconds\n"
     ]
    }
   ],
   "source": [
    "model_id = \"sherlock2.2\"\n",
    "start = datetime.now()\n",
    "print(f'Started at {start}')\n",
    "\n",
    "model = SherlockModel()\n",
    "# Model will be stored with ID `model_id`\n",
    "model.fit(X_train, y_train, X_val, y_val, model_id=model_id)\n",
    "\n",
    "print('Trained and saved new model.')\n",
    "print(f'Finished at {datetime.now()}, took {datetime.now() - start} seconds')"
   ]
  },
  {
   "cell_type": "code",
   "execution_count": 13,
   "id": "c8cbcd54",
   "metadata": {},
   "outputs": [],
   "source": [
    "predicted_labels = model.predict(X_test,model_id)\n",
    "predicted_labels = np.array([x.lower() for x in predicted_labels])"
   ]
  },
  {
   "cell_type": "code",
   "execution_count": 14,
   "id": "20f4aa3f",
   "metadata": {},
   "outputs": [
    {
     "name": "stdout",
     "output_type": "stream",
     "text": [
      "prediction count 191, type = <class 'numpy.ndarray'>\n"
     ]
    },
    {
     "data": {
      "text/plain": [
       "0.5977836312459577"
      ]
     },
     "execution_count": 14,
     "metadata": {},
     "output_type": "execute_result"
    }
   ],
   "source": [
    "print(f'prediction count {len(predicted_labels)}, type = {type(predicted_labels)}')\n",
    "\n",
    "size=len(y_test)\n",
    "\n",
    "# Should be fully deterministic too.\n",
    "f1_score(y_test[:size], predicted_labels[:size], average=\"weighted\")"
   ]
  }
 ],
 "metadata": {
  "kernelspec": {
   "display_name": "Python 3 (ipykernel)",
   "language": "python",
   "name": "python3"
  },
  "language_info": {
   "codemirror_mode": {
    "name": "ipython",
    "version": 3
   },
   "file_extension": ".py",
   "mimetype": "text/x-python",
   "name": "python",
   "nbconvert_exporter": "python",
   "pygments_lexer": "ipython3",
   "version": "3.7.11"
  }
 },
 "nbformat": 4,
 "nbformat_minor": 5
}
